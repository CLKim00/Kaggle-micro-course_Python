{
  "nbformat": 4,
  "nbformat_minor": 0,
  "metadata": {
    "colab": {
      "provenance": [],
      "collapsed_sections": [
        "buDhZLEZgiyp"
      ],
      "authorship_tag": "ABX9TyMqK88aXnUnZnVAuOiWJU5Q",
      "include_colab_link": true
    },
    "kernelspec": {
      "name": "python3",
      "display_name": "Python 3"
    },
    "language_info": {
      "name": "python"
    }
  },
  "cells": [
    {
      "cell_type": "markdown",
      "metadata": {
        "id": "view-in-github",
        "colab_type": "text"
      },
      "source": [
        "<a href=\"https://colab.research.google.com/github/CLKim00/Python/blob/main/%ED%8C%8C%EC%9D%B4%EC%8D%AC%ED%8E%B8_%EA%B8%B0%EC%B4%88_%EB%AC%B8%EB%B2%95_%EB%8D%B0%EC%9D%B4%ED%84%B0_%EC%82%AC%EC%9D%B4%EC%96%B8%EC%8A%A4_%EC%8A%A4%EC%BF%A8.ipynb\" target=\"_parent\"><img src=\"https://colab.research.google.com/assets/colab-badge.svg\" alt=\"Open In Colab\"/></a>"
      ]
    },
    {
      "cell_type": "markdown",
      "source": [
        "# 2.1 파이썬을 계산기로 사용하기"
      ],
      "metadata": {
        "id": "buDhZLEZgiyp"
      }
    },
    {
      "cell_type": "code",
      "execution_count": null,
      "metadata": {
        "colab": {
          "base_uri": "https://localhost:8080/"
        },
        "id": "rm9-7RdsD2N4",
        "outputId": "07bf8d0f-bf2a-470f-81e9-8c6334ee4132"
      },
      "outputs": [
        {
          "output_type": "execute_result",
          "data": {
            "text/plain": [
              "0.1"
            ]
          },
          "metadata": {},
          "execution_count": 1
        }
      ],
      "source": [
        "# 정수부가 0인 실수는 0을 생략할 수 있다\n",
        ".1    # .1 = 0.1"
      ]
    },
    {
      "cell_type": "markdown",
      "source": [
        "# 2.2 부동소수점 실수 자료형"
      ],
      "metadata": {
        "id": "LyH3jUyQgp02"
      }
    },
    {
      "cell_type": "markdown",
      "source": [
        "### 부동소수점 실수\n",
        "프로그래밍 언어는 IEEE 754라는 국제표준에 따라 실수를 부동소수점 방식으로 표현한다. 부동소수점 방식에서는 숫자를 정수로 된 유효숫자와 정수로 된 지수의 곱으로 표현한다."
      ],
      "metadata": {
        "id": "AJA8aW7bEmH5"
      }
    },
    {
      "cell_type": "code",
      "source": [
        "123e2    # 123.0 x 100 = 12300.0"
      ],
      "metadata": {
        "colab": {
          "base_uri": "https://localhost:8080/"
        },
        "id": "ViYGKm_5EQ7K",
        "outputId": "4110c306-c809-4166-a59f-f68e98520d3b"
      },
      "execution_count": null,
      "outputs": [
        {
          "output_type": "execute_result",
          "data": {
            "text/plain": [
              "12300.0"
            ]
          },
          "metadata": {},
          "execution_count": 2
        }
      ]
    },
    {
      "cell_type": "code",
      "source": [
        "123e-2    # 123e-2 x 0.01 = 1.23"
      ],
      "metadata": {
        "colab": {
          "base_uri": "https://localhost:8080/"
        },
        "id": "_RRiNLV3GU-b",
        "outputId": "d0e7be31-be14-4d4b-ba32-5712a20b3d16"
      },
      "execution_count": null,
      "outputs": [
        {
          "output_type": "execute_result",
          "data": {
            "text/plain": [
              "1.23"
            ]
          },
          "metadata": {},
          "execution_count": 3
        }
      ]
    },
    {
      "cell_type": "markdown",
      "source": [
        "### 부동소수점 오차\n",
        "예를 들어 0.1은 십진수로는 간단히 표현되지만 이진수로 나타내면 다음과 같이 0011이 무한히 반복되는 실수가 된다.\n",
        "\n",
        "그런데 컴퓨터에는 하나의 숫자를 나타내기 위한 메모리가 제한되어 있어 0.1의 가장 비슷한 숫자로 저장된다.\n",
        "\n",
        "0.1 = 0.1000000000000000055511151231257827021181583404541015625"
      ],
      "metadata": {
        "id": "-CZ76dYNL7Au"
      }
    },
    {
      "cell_type": "code",
      "source": [
        "# 파이썬 콘솔이나 주피터 노트북에서 0.1 입력 시 그냥 0.1로 나타남\n",
        "\n",
        "0.1"
      ],
      "metadata": {
        "colab": {
          "base_uri": "https://localhost:8080/"
        },
        "id": "mAKIrcWrGdrE",
        "outputId": "fab2a119-7c6b-4256-e18e-010d6928d53e"
      },
      "execution_count": null,
      "outputs": [
        {
          "output_type": "execute_result",
          "data": {
            "text/plain": [
              "0.1"
            ]
          },
          "metadata": {},
          "execution_count": 4
        }
      ]
    },
    {
      "cell_type": "code",
      "source": [
        "# 파이썬 콘솔이나 주피터 노트북과 같은 REPL 인터페이스에서 값이 출력될 때는 편의상 일정 소수점 이하를 생략하고 보여줌\n",
        "# 소수점 이하 55자리까지 보고 싶으면 %precision 매직(magic)명령어 사용\n",
        "\n",
        "%precision 55"
      ],
      "metadata": {
        "colab": {
          "base_uri": "https://localhost:8080/",
          "height": 36
        },
        "id": "pEQgOLa-OSMG",
        "outputId": "f9118138-5749-4ce4-a08a-800bbf089209"
      },
      "execution_count": null,
      "outputs": [
        {
          "output_type": "execute_result",
          "data": {
            "text/plain": [
              "'%.55f'"
            ],
            "application/vnd.google.colaboratory.intrinsic+json": {
              "type": "string"
            }
          },
          "metadata": {},
          "execution_count": 5
        }
      ]
    },
    {
      "cell_type": "code",
      "source": [
        "# 이 상태에서 다시 0.1이라고 입력하면 55자리까지의 유효숫자를 보여준다.\n",
        "0.1"
      ],
      "metadata": {
        "colab": {
          "base_uri": "https://localhost:8080/"
        },
        "id": "fhwHo4jsOuy-",
        "outputId": "4b298dfb-4ba2-41cf-db74-f46acd1076c5"
      },
      "execution_count": null,
      "outputs": [
        {
          "output_type": "execute_result",
          "data": {
            "text/plain": [
              "0.1000000000000000055511151231257827021181583404541015625"
            ]
          },
          "metadata": {},
          "execution_count": 7
        }
      ]
    },
    {
      "cell_type": "code",
      "source": [
        "# 원래대로\n",
        "%precision %r"
      ],
      "metadata": {
        "colab": {
          "base_uri": "https://localhost:8080/",
          "height": 36
        },
        "id": "Ufc-MTBXO7ow",
        "outputId": "4033966a-f7c6-4970-ba8a-9e2d6831b6e6"
      },
      "execution_count": null,
      "outputs": [
        {
          "output_type": "execute_result",
          "data": {
            "text/plain": [
              "'%r'"
            ],
            "application/vnd.google.colaboratory.intrinsic+json": {
              "type": "string"
            }
          },
          "metadata": {},
          "execution_count": 8
        }
      ]
    },
    {
      "cell_type": "code",
      "source": [
        "0.1"
      ],
      "metadata": {
        "colab": {
          "base_uri": "https://localhost:8080/"
        },
        "id": "4581Nz2Fe1ES",
        "outputId": "15cd5f12-b250-4049-a91e-15b9ea3c0c7c"
      },
      "execution_count": null,
      "outputs": [
        {
          "output_type": "execute_result",
          "data": {
            "text/plain": [
              "0.1"
            ]
          },
          "metadata": {},
          "execution_count": 9
        }
      ]
    },
    {
      "cell_type": "code",
      "source": [
        "# 실수 계산 시 오차를 가질 수 있음\n",
        "0.1 + 0.2 == 0.3"
      ],
      "metadata": {
        "colab": {
          "base_uri": "https://localhost:8080/"
        },
        "id": "ej5mBLCze1uh",
        "outputId": "637f1489-839f-4f14-b53a-455129bbb12b"
      },
      "execution_count": null,
      "outputs": [
        {
          "output_type": "execute_result",
          "data": {
            "text/plain": [
              "False"
            ]
          },
          "metadata": {},
          "execution_count": 10
        }
      ]
    },
    {
      "cell_type": "code",
      "source": [
        "0.1 + 0.2"
      ],
      "metadata": {
        "colab": {
          "base_uri": "https://localhost:8080/"
        },
        "id": "S5j8lXCgfHOl",
        "outputId": "44cf1b29-49e3-4a6e-8327-6e501d750f5e"
      },
      "execution_count": null,
      "outputs": [
        {
          "output_type": "execute_result",
          "data": {
            "text/plain": [
              "0.30000000000000004"
            ]
          },
          "metadata": {},
          "execution_count": 11
        }
      ]
    },
    {
      "cell_type": "code",
      "source": [
        "%precision 55"
      ],
      "metadata": {
        "colab": {
          "base_uri": "https://localhost:8080/",
          "height": 36
        },
        "id": "raGZ87UnfLnP",
        "outputId": "6ff8168c-24c4-487f-9348-7c3286b8eab0"
      },
      "execution_count": null,
      "outputs": [
        {
          "output_type": "execute_result",
          "data": {
            "text/plain": [
              "'%.55f'"
            ],
            "application/vnd.google.colaboratory.intrinsic+json": {
              "type": "string"
            }
          },
          "metadata": {},
          "execution_count": 12
        }
      ]
    },
    {
      "cell_type": "code",
      "source": [
        "0.3"
      ],
      "metadata": {
        "colab": {
          "base_uri": "https://localhost:8080/"
        },
        "id": "eEWJG-sYfPSm",
        "outputId": "14c5649b-7068-41c5-f0d5-736cf6ca73d1"
      },
      "execution_count": null,
      "outputs": [
        {
          "output_type": "execute_result",
          "data": {
            "text/plain": [
              "0.2999999999999999888977697537484345957636833190917968750"
            ]
          },
          "metadata": {},
          "execution_count": 13
        }
      ]
    },
    {
      "cell_type": "code",
      "source": [
        "%precision %r"
      ],
      "metadata": {
        "colab": {
          "base_uri": "https://localhost:8080/",
          "height": 36
        },
        "id": "zPhH45snfQFf",
        "outputId": "1fd03a43-81b3-45d4-cdd5-7ee4a1de87e6"
      },
      "execution_count": null,
      "outputs": [
        {
          "output_type": "execute_result",
          "data": {
            "text/plain": [
              "'%r'"
            ],
            "application/vnd.google.colaboratory.intrinsic+json": {
              "type": "string"
            }
          },
          "metadata": {},
          "execution_count": 14
        }
      ]
    },
    {
      "cell_type": "code",
      "source": [
        "# round 명령을 사용해 유효숫자를 지정한 반올림을 한 후 비교\n",
        "round(0.1 + 0.2, 5) == round(0.3, 5)"
      ],
      "metadata": {
        "colab": {
          "base_uri": "https://localhost:8080/"
        },
        "id": "T743yvlnfTyR",
        "outputId": "642748bf-45d1-4f9f-953c-d1ec77e3ac7e"
      },
      "execution_count": null,
      "outputs": [
        {
          "output_type": "execute_result",
          "data": {
            "text/plain": [
              "True"
            ]
          },
          "metadata": {},
          "execution_count": 15
        }
      ]
    },
    {
      "cell_type": "code",
      "source": [
        "round((0.1 + 0.2) - 0.3, 5) == 0.0"
      ],
      "metadata": {
        "colab": {
          "base_uri": "https://localhost:8080/"
        },
        "id": "CMlevLfmfljD",
        "outputId": "0897ea5e-ed39-4e8a-90b9-2ba6b998474a"
      },
      "execution_count": null,
      "outputs": [
        {
          "output_type": "execute_result",
          "data": {
            "text/plain": [
              "True"
            ]
          },
          "metadata": {},
          "execution_count": 16
        }
      ]
    },
    {
      "cell_type": "markdown",
      "source": [
        "### NaN과 Inf\n",
        "부동소수점 자료형을 NaN과 Inf 값을 표현할 수 있다"
      ],
      "metadata": {
        "id": "gF-22KEhf1fo"
      }
    },
    {
      "cell_type": "code",
      "source": [
        "float('NaN')"
      ],
      "metadata": {
        "colab": {
          "base_uri": "https://localhost:8080/"
        },
        "id": "sGjKyq8_fuco",
        "outputId": "eb5ddfd7-16af-47dd-fde4-7d1adaf5e0a2"
      },
      "execution_count": null,
      "outputs": [
        {
          "output_type": "execute_result",
          "data": {
            "text/plain": [
              "nan"
            ]
          },
          "metadata": {},
          "execution_count": 17
        }
      ]
    },
    {
      "cell_type": "code",
      "source": [
        "float('Inf')"
      ],
      "metadata": {
        "colab": {
          "base_uri": "https://localhost:8080/"
        },
        "id": "ftUro2f2gCj0",
        "outputId": "43ee10d9-e3a3-4be6-e000-3888c3b04fb0"
      },
      "execution_count": null,
      "outputs": [
        {
          "output_type": "execute_result",
          "data": {
            "text/plain": [
              "inf"
            ]
          },
          "metadata": {},
          "execution_count": 18
        }
      ]
    },
    {
      "cell_type": "code",
      "source": [
        "float('-Inf')"
      ],
      "metadata": {
        "colab": {
          "base_uri": "https://localhost:8080/"
        },
        "id": "Ma_FKPCpgEhZ",
        "outputId": "434aa723-6cc8-4da4-b139-ae851a72cd2d"
      },
      "execution_count": null,
      "outputs": [
        {
          "output_type": "execute_result",
          "data": {
            "text/plain": [
              "-inf"
            ]
          },
          "metadata": {},
          "execution_count": 19
        }
      ]
    },
    {
      "cell_type": "markdown",
      "source": [
        "# 2.3 파이썬으로 글자를 출력하기"
      ],
      "metadata": {
        "id": "e4nQ1pymgdzq"
      }
    },
    {
      "cell_type": "markdown",
      "source": [
        "### 문자열 치환"
      ],
      "metadata": {
        "id": "t36Yl5d4g1Rw"
      }
    },
    {
      "cell_type": "code",
      "source": [
        "\"2020.10.23\".replace('.', '-')"
      ],
      "metadata": {
        "colab": {
          "base_uri": "https://localhost:8080/",
          "height": 36
        },
        "id": "hVKu7WCFgFyy",
        "outputId": "dc56b150-0b45-4007-d3a6-bce3b3b77e05"
      },
      "execution_count": null,
      "outputs": [
        {
          "output_type": "execute_result",
          "data": {
            "text/plain": [
              "'2020-10-23'"
            ],
            "application/vnd.google.colaboratory.intrinsic+json": {
              "type": "string"
            }
          },
          "metadata": {},
          "execution_count": 20
        }
      ]
    },
    {
      "cell_type": "code",
      "source": [
        "'word with space'.replace(' ', '')"
      ],
      "metadata": {
        "colab": {
          "base_uri": "https://localhost:8080/",
          "height": 36
        },
        "id": "G4-50HD8g8Lb",
        "outputId": "ee019b84-e1dc-42cb-c1c0-01ce19f27279"
      },
      "execution_count": null,
      "outputs": [
        {
          "output_type": "execute_result",
          "data": {
            "text/plain": [
              "'wordwithspace'"
            ],
            "application/vnd.google.colaboratory.intrinsic+json": {
              "type": "string"
            }
          },
          "metadata": {},
          "execution_count": 21
        }
      ]
    },
    {
      "cell_type": "markdown",
      "source": [
        "### format 메서드를 사용한 문자열 형식화"
      ],
      "metadata": {
        "id": "WCKUa5EZhdU7"
      }
    },
    {
      "cell_type": "code",
      "source": [
        "\"내 이름은 {}입니다.\".format('홍길동')"
      ],
      "metadata": {
        "colab": {
          "base_uri": "https://localhost:8080/",
          "height": 36
        },
        "id": "a-c9pnOdhDTE",
        "outputId": "0f23baf5-038a-476b-f713-bd8d70ad005b"
      },
      "execution_count": null,
      "outputs": [
        {
          "output_type": "execute_result",
          "data": {
            "text/plain": [
              "'내 이름은 홍길동입니다.'"
            ],
            "application/vnd.google.colaboratory.intrinsic+json": {
              "type": "string"
            }
          },
          "metadata": {},
          "execution_count": 22
        }
      ]
    },
    {
      "cell_type": "code",
      "source": [
        "\"내 이름은 {{{}}}입니다.\".format('홍길동')"
      ],
      "metadata": {
        "colab": {
          "base_uri": "https://localhost:8080/",
          "height": 36
        },
        "id": "eZs393sehmvJ",
        "outputId": "a37a0f03-d705-4084-937e-412cfddae62a"
      },
      "execution_count": null,
      "outputs": [
        {
          "output_type": "execute_result",
          "data": {
            "text/plain": [
              "'내 이름은 {홍길동}입니다.'"
            ],
            "application/vnd.google.colaboratory.intrinsic+json": {
              "type": "string"
            }
          },
          "metadata": {},
          "execution_count": 23
        }
      ]
    },
    {
      "cell_type": "code",
      "source": [
        "\"{2}의 {0} 점수는 {1}점입니다. {1}점! {1}점!\".format('수학', 100, '철수')"
      ],
      "metadata": {
        "colab": {
          "base_uri": "https://localhost:8080/",
          "height": 36
        },
        "id": "AqsTFB46hv84",
        "outputId": "8e15c6c2-bb00-4589-8003-ff18fa622a42"
      },
      "execution_count": null,
      "outputs": [
        {
          "output_type": "execute_result",
          "data": {
            "text/plain": [
              "'철수의 수학 점수는 100점입니다. 100점! 100점!'"
            ],
            "application/vnd.google.colaboratory.intrinsic+json": {
              "type": "string"
            }
          },
          "metadata": {},
          "execution_count": 24
        }
      ]
    },
    {
      "cell_type": "code",
      "source": [
        "# 숫자 대신 인수 이름을 지정할 수 있다\n",
        "'{a}점수: {x}점, {b}점수: {y}점'.format(a = '영어', b = '수학', x = 100, y = 90)"
      ],
      "metadata": {
        "colab": {
          "base_uri": "https://localhost:8080/",
          "height": 36
        },
        "id": "jwK4XOn3iH4O",
        "outputId": "015f95ae-a71c-47c0-95de-95a17c16e00f"
      },
      "execution_count": null,
      "outputs": [
        {
          "output_type": "execute_result",
          "data": {
            "text/plain": [
              "'영어점수: 100점, 수학점수: 90점'"
            ],
            "application/vnd.google.colaboratory.intrinsic+json": {
              "type": "string"
            }
          },
          "metadata": {},
          "execution_count": 25
        }
      ]
    },
    {
      "cell_type": "code",
      "source": [
        "# 순서 숫자나 인수 이름을 지정하지 않으면 순서대로 입력\n",
        "\"{}점수: {}점, {}점수: {}점\".format(\"영어\", 100, \"수학\", 90)"
      ],
      "metadata": {
        "colab": {
          "base_uri": "https://localhost:8080/",
          "height": 36
        },
        "id": "0N-8VgndiiFs",
        "outputId": "4f3be91e-8127-4da9-d4d2-8af2be43157d"
      },
      "execution_count": null,
      "outputs": [
        {
          "output_type": "execute_result",
          "data": {
            "text/plain": [
              "'영어점수: 100점, 수학점수: 90점'"
            ],
            "application/vnd.google.colaboratory.intrinsic+json": {
              "type": "string"
            }
          },
          "metadata": {},
          "execution_count": 26
        }
      ]
    },
    {
      "cell_type": "markdown",
      "source": [
        "### enumerate 함수"
      ],
      "metadata": {
        "id": "TYeER60kb0KC"
      }
    },
    {
      "cell_type": "code",
      "source": [
        "for i, e in enumerate(['a', 'b', 'c']):\n",
        "    print('i = %d, e = %s' % (i, e))"
      ],
      "metadata": {
        "id": "NiUyRDk1ioDc",
        "colab": {
          "base_uri": "https://localhost:8080/"
        },
        "outputId": "bf08dce3-02ec-48db-b330-f0f4bafa5b49"
      },
      "execution_count": null,
      "outputs": [
        {
          "output_type": "stream",
          "name": "stdout",
          "text": [
            "i = 0, e = a\n",
            "i = 1, e = b\n",
            "i = 2, e = c\n"
          ]
        }
      ]
    },
    {
      "cell_type": "code",
      "source": [
        "s = [0, 0, 0, 0, 0, 0, 0, 0, 0, 0]\n",
        "a1 = [90, 85, 95, 80, 90, 100, 85, 75, 85, 80]\n",
        "a2 = [95, 90, 90, 90, 95, 100, 90, 80, 95, 90]\n",
        "for i, (a1i, a2i) in enumerate(zip(a1, a2)):    # zip() 함수는 여러 개의 순회 가능한(iterable) 객체를 인자로 받아 동일한 개수로 이루어진 자료형을 묶어서 튜플의 형태로 반환한다.\n",
        "    s[i] = a1i + a2i\n",
        "s"
      ],
      "metadata": {
        "colab": {
          "base_uri": "https://localhost:8080/"
        },
        "id": "-HNWwCWncNyO",
        "outputId": "2140787a-3171-451b-9c13-5f8e27bdb803"
      },
      "execution_count": null,
      "outputs": [
        {
          "output_type": "execute_result",
          "data": {
            "text/plain": [
              "[185, 175, 185, 170, 185, 200, 175, 155, 180, 170]"
            ]
          },
          "metadata": {},
          "execution_count": 3
        }
      ]
    },
    {
      "cell_type": "markdown",
      "source": [
        "### zip 함수"
      ],
      "metadata": {
        "id": "MTA61CwgdUYW"
      }
    },
    {
      "cell_type": "code",
      "source": [
        "# 두 개의 리스트를 합쳐서 각 리스트 원소의 쌍을 원소로 가지는 하나의 리스트를 만든다.\n",
        "# 파이썬3에서는 명시적으로 list 명령을 사용해야 리스트가 된다\n",
        "a12 = list(zip(a1, a2))\n",
        "a12"
      ],
      "metadata": {
        "colab": {
          "base_uri": "https://localhost:8080/"
        },
        "id": "bcfcsxJVchwu",
        "outputId": "bcdc9b8e-e123-4098-a914-9082f35bbd9a"
      },
      "execution_count": null,
      "outputs": [
        {
          "output_type": "execute_result",
          "data": {
            "text/plain": [
              "[(90, 95),\n",
              " (85, 90),\n",
              " (95, 90),\n",
              " (80, 90),\n",
              " (90, 95),\n",
              " (100, 100),\n",
              " (85, 90),\n",
              " (75, 80),\n",
              " (85, 95),\n",
              " (80, 90)]"
            ]
          },
          "metadata": {},
          "execution_count": 4
        }
      ]
    },
    {
      "cell_type": "code",
      "source": [
        "s = []\n",
        "a1 = [90, 85, 95, 80, 90, 100, 85, 75, 85, 80]\n",
        "a2 = [95, 90, 90, 90, 95, 100, 90, 80, 95, 90]\n",
        "\n",
        "for a1i, a2i in zip(a1, a2):    # 소괄호로 표시된 묶음은 tuple\n",
        "    s.append(a1i + a2i)\n",
        "s"
      ],
      "metadata": {
        "colab": {
          "base_uri": "https://localhost:8080/"
        },
        "id": "FzE19-5Ec-zx",
        "outputId": "dcf87630-e0b7-4ef9-8c20-65e577ee9975"
      },
      "execution_count": null,
      "outputs": [
        {
          "output_type": "execute_result",
          "data": {
            "text/plain": [
              "[185, 175, 185, 170, 185, 200, 175, 155, 180, 170]"
            ]
          },
          "metadata": {},
          "execution_count": 5
        }
      ]
    },
    {
      "cell_type": "code",
      "source": [
        "a12"
      ],
      "metadata": {
        "colab": {
          "base_uri": "https://localhost:8080/"
        },
        "id": "YOsXqux_dl4Q",
        "outputId": "6cec0d26-7ade-493a-caf8-a818e27f252c"
      },
      "execution_count": null,
      "outputs": [
        {
          "output_type": "execute_result",
          "data": {
            "text/plain": [
              "[(90, 95),\n",
              " (85, 90),\n",
              " (95, 90),\n",
              " (80, 90),\n",
              " (90, 95),\n",
              " (100, 100),\n",
              " (85, 90),\n",
              " (75, 80),\n",
              " (85, 95),\n",
              " (80, 90)]"
            ]
          },
          "metadata": {},
          "execution_count": 6
        }
      ]
    },
    {
      "cell_type": "code",
      "source": [
        "a21 = list(zip(*a12))    # 리스트 변환\n",
        "a21"
      ],
      "metadata": {
        "colab": {
          "base_uri": "https://localhost:8080/"
        },
        "id": "w-18ed0Xd4Sn",
        "outputId": "21bed392-efc8-4778-8e87-b33c58e69ce9"
      },
      "execution_count": null,
      "outputs": [
        {
          "output_type": "execute_result",
          "data": {
            "text/plain": [
              "[(90, 85, 95, 80, 90, 100, 85, 75, 85, 80),\n",
              " (95, 90, 90, 90, 95, 100, 90, 80, 95, 90)]"
            ]
          },
          "metadata": {},
          "execution_count": 7
        }
      ]
    },
    {
      "cell_type": "code",
      "source": [
        "list(zip(*a21))"
      ],
      "metadata": {
        "colab": {
          "base_uri": "https://localhost:8080/"
        },
        "id": "6K3Bo8CLd8gD",
        "outputId": "1a741757-3e1b-4e3b-a14d-03eeb8f742c9"
      },
      "execution_count": null,
      "outputs": [
        {
          "output_type": "execute_result",
          "data": {
            "text/plain": [
              "[(90, 95),\n",
              " (85, 90),\n",
              " (95, 90),\n",
              " (80, 90),\n",
              " (90, 95),\n",
              " (100, 100),\n",
              " (85, 90),\n",
              " (75, 80),\n",
              " (85, 95),\n",
              " (80, 90)]"
            ]
          },
          "metadata": {},
          "execution_count": 8
        }
      ]
    },
    {
      "cell_type": "markdown",
      "source": [
        "### 딕셔너리 자료형의 키 반복\n",
        "### 딕셔너리 자료형의 값 반복\n",
        "### 딕셔너리 자료형의 키와 값의 쌍 반복"
      ],
      "metadata": {
        "id": "T6_P5Vjneb8i"
      }
    },
    {
      "cell_type": "code",
      "source": [
        "x = {\"a\": 10, \"b\": 20}\n",
        "\n",
        "for k in x.keys():\n",
        "    print(k)"
      ],
      "metadata": {
        "colab": {
          "base_uri": "https://localhost:8080/"
        },
        "id": "pEAHvEeEeDl-",
        "outputId": "50ca97da-7b3b-4137-d168-137ead86fa2e"
      },
      "execution_count": null,
      "outputs": [
        {
          "output_type": "stream",
          "name": "stdout",
          "text": [
            "a\n",
            "b\n"
          ]
        }
      ]
    },
    {
      "cell_type": "code",
      "source": [
        "for v in x.values():\n",
        "    print(v)"
      ],
      "metadata": {
        "colab": {
          "base_uri": "https://localhost:8080/"
        },
        "id": "oFZWz6mMexyh",
        "outputId": "2fa0c207-1a52-4886-eb5d-3d578404599b"
      },
      "execution_count": null,
      "outputs": [
        {
          "output_type": "stream",
          "name": "stdout",
          "text": [
            "10\n",
            "20\n"
          ]
        }
      ]
    },
    {
      "cell_type": "code",
      "source": [
        "for k, v in x.items():\n",
        "    print(k, v)"
      ],
      "metadata": {
        "colab": {
          "base_uri": "https://localhost:8080/"
        },
        "id": "Nmti8KIte1fJ",
        "outputId": "eca02590-5c06-4b58-e291-e32ec93f9c0f"
      },
      "execution_count": null,
      "outputs": [
        {
          "output_type": "stream",
          "name": "stdout",
          "text": [
            "a 10\n",
            "b 20\n"
          ]
        }
      ]
    },
    {
      "cell_type": "markdown",
      "source": [
        "### 게임 캐릭터와 객체"
      ],
      "metadata": {
        "id": "zQWz3JqugyxJ"
      }
    },
    {
      "cell_type": "code",
      "source": [
        "class Character(object):\n",
        "    \n",
        "    def __init__(self):\n",
        "        self.life = 1000\n",
        "    \n",
        "    def attacked(self):\n",
        "        self.life -= 10\n",
        "        print('공격받음! 생명력 =', self.life)"
      ],
      "metadata": {
        "id": "0DZw9ccOe8uC"
      },
      "execution_count": null,
      "outputs": []
    },
    {
      "cell_type": "code",
      "source": [
        "a = Character()\n",
        "b = Character()\n",
        "c = Character()"
      ],
      "metadata": {
        "id": "uhfEfYfchEgA"
      },
      "execution_count": null,
      "outputs": []
    },
    {
      "cell_type": "code",
      "source": [
        "a.life, b.life, c.life"
      ],
      "metadata": {
        "colab": {
          "base_uri": "https://localhost:8080/"
        },
        "id": "O0_wfE9lhMwQ",
        "outputId": "bf3b0e50-4a95-44b0-a743-3e6dc6d05d34"
      },
      "execution_count": null,
      "outputs": [
        {
          "output_type": "execute_result",
          "data": {
            "text/plain": [
              "(1000, 1000, 1000)"
            ]
          },
          "metadata": {},
          "execution_count": 15
        }
      ]
    },
    {
      "cell_type": "code",
      "source": [
        "a.attacked()"
      ],
      "metadata": {
        "colab": {
          "base_uri": "https://localhost:8080/"
        },
        "id": "zf6ECTC6hPyJ",
        "outputId": "102813e1-4ed8-459d-ca68-4eaa920303ca"
      },
      "execution_count": null,
      "outputs": [
        {
          "output_type": "stream",
          "name": "stdout",
          "text": [
            "공격받음! 생명력 = 990\n"
          ]
        }
      ]
    },
    {
      "cell_type": "code",
      "source": [
        "b.attacked()"
      ],
      "metadata": {
        "colab": {
          "base_uri": "https://localhost:8080/"
        },
        "id": "DPL4asFghVJ6",
        "outputId": "0e97dc70-a02d-436c-e88e-02d3431af37c"
      },
      "execution_count": null,
      "outputs": [
        {
          "output_type": "stream",
          "name": "stdout",
          "text": [
            "공격받음! 생명력 = 990\n"
          ]
        }
      ]
    },
    {
      "cell_type": "code",
      "source": [
        "a.attacked()\n",
        "a.attacked()\n",
        "a.attacked()\n",
        "a.attacked()"
      ],
      "metadata": {
        "colab": {
          "base_uri": "https://localhost:8080/"
        },
        "id": "RduLN10bhWpF",
        "outputId": "6d3738b3-6e5a-42ea-80e3-97a6af53b8e3"
      },
      "execution_count": null,
      "outputs": [
        {
          "output_type": "stream",
          "name": "stdout",
          "text": [
            "공격받음! 생명력 = 980\n",
            "공격받음! 생명력 = 970\n",
            "공격받음! 생명력 = 960\n",
            "공격받음! 생명력 = 950\n"
          ]
        }
      ]
    },
    {
      "cell_type": "code",
      "source": [
        "a.life, b.life, c.life"
      ],
      "metadata": {
        "colab": {
          "base_uri": "https://localhost:8080/"
        },
        "id": "hq3ZyYeKhbUL",
        "outputId": "d382a757-cbcb-4ec2-9732-1fcd256aa4fd"
      },
      "execution_count": null,
      "outputs": [
        {
          "output_type": "execute_result",
          "data": {
            "text/plain": [
              "(950, 990, 1000)"
            ]
          },
          "metadata": {},
          "execution_count": 19
        }
      ]
    },
    {
      "cell_type": "markdown",
      "source": [
        "### 클래스 상속"
      ],
      "metadata": {
        "id": "gAltx0C0hfSV"
      }
    },
    {
      "cell_type": "code",
      "source": [
        "# 만약 전사(Warrior), 마법사(Wizard) 등 다양한 직업을 가진 캐릭터가 있고, 각 캐릭터는 서로 다른 초기 속성값을 가지고 태어난다면 어떻게 프로그래밍해야 할까?\n",
        "# 각각의 캐릭터를 별도의 클래스로 만들어도 되겠지만, 클래스 상속을 사용하면 이미 만들어진 클래스 코드를 재사용하여 다른 클래스를 생성할 수 있다.\n",
        "# 이 때 상속을 받는 클래스를 자식 클래스(child class), 상속의 대상이 되는 클래스를 부모 클래스(parent class)라고 한다.\n",
        "\n",
        "\"\"\"\n",
        "class 자식클래스이름(부모클래스 이름):\n",
        "    \n",
        "    def __init__(self, 속성값1, 속성값2):\n",
        "        super(자식클래스이름, self).__init__()\n",
        "        자식클래스의 초기화 코드\n",
        "\"\"\""
      ],
      "metadata": {
        "colab": {
          "base_uri": "https://localhost:8080/",
          "height": 72
        },
        "id": "og9Yb3HJheMj",
        "outputId": "a24dde78-eb57-4352-f00b-8e43beecf79f"
      },
      "execution_count": null,
      "outputs": [
        {
          "output_type": "execute_result",
          "data": {
            "text/plain": [
              "'\\nclass 자식클래스이름(부모클래스 이름):\\n    \\n    def __init__(self, 속성값1, 속성값2):\\n        super(자식클래스이름, self).__init__()\\n        자식클래스의 초기화 코드\\n'"
            ],
            "application/vnd.google.colaboratory.intrinsic+json": {
              "type": "string"
            }
          },
          "metadata": {},
          "execution_count": 20
        }
      ]
    },
    {
      "cell_type": "code",
      "source": [
        "class Warrior(Character):\n",
        "\n",
        "    def __init__(self):\n",
        "        super(Warrior, self).__init__()\n",
        "        self.strength = 15\n",
        "        self.intelligence = 5"
      ],
      "metadata": {
        "id": "T4ZAFB8Kic9z"
      },
      "execution_count": null,
      "outputs": []
    },
    {
      "cell_type": "code",
      "source": [
        "class Wizard(Character):\n",
        "\n",
        "    def __init__(self):\n",
        "        super(Wizard,self).__init__()\n",
        "        self.strength = 5\n",
        "        self.intelligence = 15"
      ],
      "metadata": {
        "id": "ZtynJ3t8itQQ"
      },
      "execution_count": null,
      "outputs": []
    },
    {
      "cell_type": "code",
      "source": [
        "a = Warrior()\n",
        "b = Wizard()"
      ],
      "metadata": {
        "id": "Cz-RAbQLi5U4"
      },
      "execution_count": null,
      "outputs": []
    },
    {
      "cell_type": "code",
      "source": [
        "a.life, b.life"
      ],
      "metadata": {
        "colab": {
          "base_uri": "https://localhost:8080/"
        },
        "id": "9tPnAwiVjBCo",
        "outputId": "c7c549d5-8d1d-41e5-81e2-f425db12175e"
      },
      "execution_count": null,
      "outputs": [
        {
          "output_type": "execute_result",
          "data": {
            "text/plain": [
              "(1000, 1000)"
            ]
          },
          "metadata": {},
          "execution_count": 24
        }
      ]
    },
    {
      "cell_type": "code",
      "source": [
        "a.strength, b.strength"
      ],
      "metadata": {
        "colab": {
          "base_uri": "https://localhost:8080/"
        },
        "id": "F05THag9jCc4",
        "outputId": "4b235a90-9fa3-4b1d-c6dc-9eca603976db"
      },
      "execution_count": null,
      "outputs": [
        {
          "output_type": "execute_result",
          "data": {
            "text/plain": [
              "(15, 5)"
            ]
          },
          "metadata": {},
          "execution_count": 25
        }
      ]
    },
    {
      "cell_type": "code",
      "source": [
        "a.intelligence, b.intelligence"
      ],
      "metadata": {
        "colab": {
          "base_uri": "https://localhost:8080/"
        },
        "id": "Wh975RDqjFpl",
        "outputId": "a0ae01a7-2892-4c1d-e14a-b32166e595ed"
      },
      "execution_count": null,
      "outputs": [
        {
          "output_type": "execute_result",
          "data": {
            "text/plain": [
              "(5, 15)"
            ]
          },
          "metadata": {},
          "execution_count": 27
        }
      ]
    },
    {
      "cell_type": "code",
      "source": [
        "a.attacked()"
      ],
      "metadata": {
        "colab": {
          "base_uri": "https://localhost:8080/"
        },
        "id": "EC7LmcPPjIg6",
        "outputId": "7e5afcd2-df84-4d5c-c523-23f78e5a7745"
      },
      "execution_count": null,
      "outputs": [
        {
          "output_type": "stream",
          "name": "stdout",
          "text": [
            "공격받음! 생명력 = 990\n"
          ]
        }
      ]
    },
    {
      "cell_type": "code",
      "source": [
        "b.attacked()"
      ],
      "metadata": {
        "colab": {
          "base_uri": "https://localhost:8080/"
        },
        "id": "m6W6JFUCjM44",
        "outputId": "0461bd67-939d-4eed-f189-bc4cf8f57982"
      },
      "execution_count": null,
      "outputs": [
        {
          "output_type": "stream",
          "name": "stdout",
          "text": [
            "공격받음! 생명력 = 990\n"
          ]
        }
      ]
    },
    {
      "cell_type": "markdown",
      "source": [
        "### 메서드 오버라이딩(Method Overriding)"
      ],
      "metadata": {
        "id": "fCOvRFIQjiGA"
      }
    },
    {
      "cell_type": "code",
      "source": [
        "# 부모 클래스, 전사 클래스, 마법사 클래스에 공통으로 attack이라는 메서드가 있지만, 각각 하는 일이 다를 때는 다음처럼 같은 이름의 메서드를 클래스별로 구현한다."
      ],
      "metadata": {
        "id": "24KhxE-ijN9u"
      },
      "execution_count": null,
      "outputs": []
    },
    {
      "cell_type": "code",
      "source": [
        "class Charcter(object):\n",
        "\n",
        "    def __init__(self):\n",
        "        self.life = 1000\n",
        "    \n",
        "    def attacked(self):\n",
        "        self.life -= 10\n",
        "        print('공격받음! 생명력 =', self.life)\n",
        "\n",
        "    def attack(self):\n",
        "        print('공격!')"
      ],
      "metadata": {
        "id": "eEGKmSQwj1aG"
      },
      "execution_count": null,
      "outputs": []
    },
    {
      "cell_type": "code",
      "source": [
        "class Warrior(Character):\n",
        "\n",
        "    def __init__(self):\n",
        "        super(Warrior, self).__init__()\n",
        "        self.strength = 15\n",
        "        self.intelligence = 5\n",
        "\n",
        "    def attack(self):\n",
        "        print('육탄 공격!')"
      ],
      "metadata": {
        "id": "s1jB-KE5kCPu"
      },
      "execution_count": null,
      "outputs": []
    },
    {
      "cell_type": "code",
      "source": [
        "class Wizard(Character):\n",
        "\n",
        "    def __init__(self):\n",
        "        super(Wizard, self).__init__()\n",
        "        self.strength = 5\n",
        "        self.intelligence = 15\n",
        "\n",
        "    def attack(self):\n",
        "        print('마법 공격!')"
      ],
      "metadata": {
        "id": "FqcLaCDdkIc5"
      },
      "execution_count": null,
      "outputs": []
    },
    {
      "cell_type": "code",
      "source": [
        "a = Charcter()\n",
        "b = Warrior()\n",
        "c = Wizard()"
      ],
      "metadata": {
        "id": "DXVJwljlkOMA"
      },
      "execution_count": null,
      "outputs": []
    },
    {
      "cell_type": "code",
      "source": [
        "a.attack()"
      ],
      "metadata": {
        "colab": {
          "base_uri": "https://localhost:8080/"
        },
        "id": "4MSw0OBckTES",
        "outputId": "577c333d-873f-4cbb-cbac-a140232e9978"
      },
      "execution_count": null,
      "outputs": [
        {
          "output_type": "stream",
          "name": "stdout",
          "text": [
            "공격!\n"
          ]
        }
      ]
    },
    {
      "cell_type": "code",
      "source": [
        "b.attack()"
      ],
      "metadata": {
        "colab": {
          "base_uri": "https://localhost:8080/"
        },
        "id": "cJzEup1MkUW_",
        "outputId": "c922c398-bdc4-42fe-9904-d20db156da44"
      },
      "execution_count": null,
      "outputs": [
        {
          "output_type": "stream",
          "name": "stdout",
          "text": [
            "육탄 공격!\n"
          ]
        }
      ]
    },
    {
      "cell_type": "code",
      "source": [
        "c.attack()"
      ],
      "metadata": {
        "colab": {
          "base_uri": "https://localhost:8080/"
        },
        "id": "I9EupDbnkVJw",
        "outputId": "1d096c0d-a5ac-4a76-dfaf-0163ac1c64ed"
      },
      "execution_count": null,
      "outputs": [
        {
          "output_type": "stream",
          "name": "stdout",
          "text": [
            "마법 공격!\n"
          ]
        }
      ]
    },
    {
      "cell_type": "markdown",
      "source": [
        "### 불변형 자료형과 변형 자료형"
      ],
      "metadata": {
        "id": "qmUl4n7Gmrs8"
      }
    },
    {
      "cell_type": "code",
      "source": [
        "# 정수, 실수, 문자열, 튜플은 불변형 자료형\n",
        "# 리스트, 딕셔너리는 변형 자료형\n",
        "# 불변형 자료형은 데이터 값을 바꿀 때 메모리에 저장된 데이터 전체를 모두 없애고 새로 만들지만 변형 자료형은 할당된 메모리를 그냥 놔두고 메모리에 씌여있는 값만 바꾼다."
      ],
      "metadata": {
        "id": "X5uBB6N7kWfA"
      },
      "execution_count": null,
      "outputs": []
    },
    {
      "cell_type": "code",
      "source": [
        "x = 1"
      ],
      "metadata": {
        "id": "fP0WitBDnAws"
      },
      "execution_count": null,
      "outputs": []
    },
    {
      "cell_type": "code",
      "source": [
        "id(x)"
      ],
      "metadata": {
        "colab": {
          "base_uri": "https://localhost:8080/"
        },
        "id": "0EGvBHJWnCf2",
        "outputId": "254bc9ee-94ec-475d-914d-24cd5cda9167"
      },
      "execution_count": null,
      "outputs": [
        {
          "output_type": "execute_result",
          "data": {
            "text/plain": [
              "11122592"
            ]
          },
          "metadata": {},
          "execution_count": 40
        }
      ]
    },
    {
      "cell_type": "code",
      "source": [
        "x = 2"
      ],
      "metadata": {
        "id": "fe5mvnRInDaL"
      },
      "execution_count": null,
      "outputs": []
    },
    {
      "cell_type": "code",
      "source": [
        "id(x)"
      ],
      "metadata": {
        "colab": {
          "base_uri": "https://localhost:8080/"
        },
        "id": "xIAjMiTTnFOu",
        "outputId": "91d51133-dd42-40a3-f9c8-5de4c99e3033"
      },
      "execution_count": null,
      "outputs": [
        {
          "output_type": "execute_result",
          "data": {
            "text/plain": [
              "11122624"
            ]
          },
          "metadata": {},
          "execution_count": 42
        }
      ]
    },
    {
      "cell_type": "code",
      "source": [
        "x = [1]"
      ],
      "metadata": {
        "id": "j0mjP6v0nF9_"
      },
      "execution_count": null,
      "outputs": []
    },
    {
      "cell_type": "code",
      "source": [
        "id(x)    # 리스트의 메모리 주소"
      ],
      "metadata": {
        "colab": {
          "base_uri": "https://localhost:8080/"
        },
        "id": "ale4w2w9nKIq",
        "outputId": "db4a0815-db38-4f82-bba5-9597dd8dec69"
      },
      "execution_count": null,
      "outputs": [
        {
          "output_type": "execute_result",
          "data": {
            "text/plain": [
              "139860657464016"
            ]
          },
          "metadata": {},
          "execution_count": 44
        }
      ]
    },
    {
      "cell_type": "code",
      "source": [
        "id(x[0]) # 첫 번째 원소의 메모리 주소"
      ],
      "metadata": {
        "colab": {
          "base_uri": "https://localhost:8080/"
        },
        "id": "BsFo0SY_nKyJ",
        "outputId": "bc8cb1ec-435d-4707-e409-24faa0a96db9"
      },
      "execution_count": null,
      "outputs": [
        {
          "output_type": "execute_result",
          "data": {
            "text/plain": [
              "11122592"
            ]
          },
          "metadata": {},
          "execution_count": 46
        }
      ]
    },
    {
      "cell_type": "code",
      "source": [
        "x[0] = 2"
      ],
      "metadata": {
        "id": "UPtTXeJ-nTfz"
      },
      "execution_count": null,
      "outputs": []
    },
    {
      "cell_type": "code",
      "source": [
        "id(x)    # 리스트 메모리 주소 유지"
      ],
      "metadata": {
        "colab": {
          "base_uri": "https://localhost:8080/"
        },
        "id": "fW7IcFwqnkir",
        "outputId": "6837f93d-cedc-4e68-d487-cb01e3381905"
      },
      "execution_count": null,
      "outputs": [
        {
          "output_type": "execute_result",
          "data": {
            "text/plain": [
              "139860657464016"
            ]
          },
          "metadata": {},
          "execution_count": 48
        }
      ]
    },
    {
      "cell_type": "code",
      "source": [
        "id(x[0])"
      ],
      "metadata": {
        "colab": {
          "base_uri": "https://localhost:8080/"
        },
        "id": "dtbeADHFnlNL",
        "outputId": "7d2658b7-8f5a-46e9-9738-061815569ed7"
      },
      "execution_count": null,
      "outputs": [
        {
          "output_type": "execute_result",
          "data": {
            "text/plain": [
              "11122624"
            ]
          },
          "metadata": {},
          "execution_count": 49
        }
      ]
    },
    {
      "cell_type": "code",
      "source": [
        "x = (1,)"
      ],
      "metadata": {
        "id": "vwBjEeMMnoWG"
      },
      "execution_count": null,
      "outputs": []
    },
    {
      "cell_type": "code",
      "source": [
        "id(x)"
      ],
      "metadata": {
        "colab": {
          "base_uri": "https://localhost:8080/"
        },
        "id": "7Q7YtF4Ln5m8",
        "outputId": "ff9c201a-a6b5-4e9e-f94a-54f8e65719c3"
      },
      "execution_count": null,
      "outputs": [
        {
          "output_type": "execute_result",
          "data": {
            "text/plain": [
              "139860659228240"
            ]
          },
          "metadata": {},
          "execution_count": 51
        }
      ]
    },
    {
      "cell_type": "code",
      "source": [
        "id(x[0])"
      ],
      "metadata": {
        "colab": {
          "base_uri": "https://localhost:8080/"
        },
        "id": "wQi0dBaHn6LM",
        "outputId": "0d80f9f3-da85-42d0-b2a3-bc67489aa977"
      },
      "execution_count": null,
      "outputs": [
        {
          "output_type": "execute_result",
          "data": {
            "text/plain": [
              "11122592"
            ]
          },
          "metadata": {},
          "execution_count": 52
        }
      ]
    },
    {
      "cell_type": "code",
      "source": [
        "# 튜플은 원소가 가리키는 내용만 바꿀 수 없다\n",
        "# 바꾸려면 튜플 전체를 다시 만들어야 한다\n",
        "x[0] = 2"
      ],
      "metadata": {
        "colab": {
          "base_uri": "https://localhost:8080/",
          "height": 205
        },
        "id": "UHSxhcc-n7U3",
        "outputId": "c01cbfa9-b303-4815-defc-26181f11be13"
      },
      "execution_count": null,
      "outputs": [
        {
          "output_type": "error",
          "ename": "TypeError",
          "evalue": "ignored",
          "traceback": [
            "\u001b[0;31m---------------------------------------------------------------------------\u001b[0m",
            "\u001b[0;31mTypeError\u001b[0m                                 Traceback (most recent call last)",
            "\u001b[0;32m<ipython-input-53-ebac946b3580>\u001b[0m in \u001b[0;36m<module>\u001b[0;34m\u001b[0m\n\u001b[0;32m----> 1\u001b[0;31m \u001b[0mx\u001b[0m\u001b[0;34m[\u001b[0m\u001b[0;36m0\u001b[0m\u001b[0;34m]\u001b[0m \u001b[0;34m=\u001b[0m \u001b[0;36m2\u001b[0m\u001b[0;34m\u001b[0m\u001b[0;34m\u001b[0m\u001b[0m\n\u001b[0m",
            "\u001b[0;31mTypeError\u001b[0m: 'tuple' object does not support item assignment"
          ]
        }
      ]
    },
    {
      "cell_type": "code",
      "source": [
        "x = (2,)"
      ],
      "metadata": {
        "id": "WXXgotEUn9Ci"
      },
      "execution_count": null,
      "outputs": []
    },
    {
      "cell_type": "code",
      "source": [
        "id(x)    # 튜플 메모리 주소 변경됨"
      ],
      "metadata": {
        "colab": {
          "base_uri": "https://localhost:8080/"
        },
        "id": "pXyakdAWoLoX",
        "outputId": "24e791e9-4982-4e52-d104-35dc950f8af2"
      },
      "execution_count": null,
      "outputs": [
        {
          "output_type": "execute_result",
          "data": {
            "text/plain": [
              "139860792738896"
            ]
          },
          "metadata": {},
          "execution_count": 55
        }
      ]
    },
    {
      "cell_type": "code",
      "source": [
        "id(x[0]) # 튜플 원소 메모리 주소 변경됨"
      ],
      "metadata": {
        "colab": {
          "base_uri": "https://localhost:8080/"
        },
        "id": "UFyaoKk9oMb_",
        "outputId": "43b54e8c-599b-4c78-82e5-13ed382c3e93"
      },
      "execution_count": null,
      "outputs": [
        {
          "output_type": "execute_result",
          "data": {
            "text/plain": [
              "11122624"
            ]
          },
          "metadata": {},
          "execution_count": 56
        }
      ]
    },
    {
      "cell_type": "code",
      "source": [],
      "metadata": {
        "id": "h4GetLuNoNUr"
      },
      "execution_count": null,
      "outputs": []
    }
  ]
}