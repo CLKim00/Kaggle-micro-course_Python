{
  "nbformat": 4,
  "nbformat_minor": 0,
  "metadata": {
    "colab": {
      "provenance": [],
      "collapsed_sections": [],
      "authorship_tag": "ABX9TyP9tWgM9lAPiE16t8M0bURG",
      "include_colab_link": true
    },
    "kernelspec": {
      "name": "python3",
      "display_name": "Python 3"
    },
    "language_info": {
      "name": "python"
    }
  },
  "cells": [
    {
      "cell_type": "markdown",
      "metadata": {
        "id": "view-in-github",
        "colab_type": "text"
      },
      "source": [
        "<a href=\"https://colab.research.google.com/github/CLKim00/Python/blob/main/Numpy.ipynb\" target=\"_parent\"><img src=\"https://colab.research.google.com/assets/colab-badge.svg\" alt=\"Open In Colab\"/></a>"
      ]
    },
    {
      "cell_type": "markdown",
      "source": [
        "# 1. Numpy란?"
      ],
      "metadata": {
        "id": "y3WmXFWuQX2p"
      }
    },
    {
      "cell_type": "code",
      "execution_count": null,
      "metadata": {
        "id": "rcDcn_ZgQEIi"
      },
      "outputs": [],
      "source": [
        "# numpy 사용하기\n",
        "import numpy as np"
      ]
    },
    {
      "cell_type": "markdown",
      "source": [
        "# 2. Array 정의 및 사용"
      ],
      "metadata": {
        "id": "SPUmoLoOQeie"
      }
    },
    {
      "cell_type": "code",
      "source": [
        "data1 = [1, 2, 3, 4, 5]\n",
        "data1"
      ],
      "metadata": {
        "colab": {
          "base_uri": "https://localhost:8080/"
        },
        "id": "4-0HHEvPQd5v",
        "outputId": "92586257-d2dd-4500-ad4b-8ddd0eb53693"
      },
      "execution_count": null,
      "outputs": [
        {
          "output_type": "execute_result",
          "data": {
            "text/plain": [
              "[1, 2, 3, 4, 5]"
            ]
          },
          "metadata": {},
          "execution_count": 3
        }
      ]
    },
    {
      "cell_type": "code",
      "source": [
        "data2 = [1, 2, 3, 3.5, 4]\n",
        "data2"
      ],
      "metadata": {
        "colab": {
          "base_uri": "https://localhost:8080/"
        },
        "id": "DA6-y8AaQnJY",
        "outputId": "94df1161-bccc-4ed3-80af-017a0bf85f3c"
      },
      "execution_count": null,
      "outputs": [
        {
          "output_type": "execute_result",
          "data": {
            "text/plain": [
              "[1, 2, 3, 3.5, 4]"
            ]
          },
          "metadata": {},
          "execution_count": 4
        }
      ]
    },
    {
      "cell_type": "code",
      "source": [
        "# numpy를 이용해 array 정의하기\n",
        "# 위에서 만든 python list 이용\n",
        "arr1 = np.array(data1)\n",
        "arr1"
      ],
      "metadata": {
        "colab": {
          "base_uri": "https://localhost:8080/"
        },
        "id": "TszsifI1QsNP",
        "outputId": "2d72d56d-54f3-433e-cbfd-2bde562b54de"
      },
      "execution_count": null,
      "outputs": [
        {
          "output_type": "execute_result",
          "data": {
            "text/plain": [
              "array([1, 2, 3, 4, 5])"
            ]
          },
          "metadata": {},
          "execution_count": 5
        }
      ]
    },
    {
      "cell_type": "code",
      "source": [
        "# array의 형태(크기) 확인\n",
        "arr1.shape"
      ],
      "metadata": {
        "colab": {
          "base_uri": "https://localhost:8080/"
        },
        "id": "szxMMvdSQ2XB",
        "outputId": "e0f34dc5-adfd-4fcd-cdda-f683cf0bb29b"
      },
      "execution_count": null,
      "outputs": [
        {
          "output_type": "execute_result",
          "data": {
            "text/plain": [
              "(5,)"
            ]
          },
          "metadata": {},
          "execution_count": 6
        }
      ]
    },
    {
      "cell_type": "code",
      "source": [
        "# python list를 직접 입력\n",
        "arr2 = np.array([1, 2, 3, 4, 5])\n",
        "arr2"
      ],
      "metadata": {
        "colab": {
          "base_uri": "https://localhost:8080/"
        },
        "id": "yzoXy1AOREna",
        "outputId": "ed8c00e4-1f85-4824-b09f-bd63f4f75c71"
      },
      "execution_count": null,
      "outputs": [
        {
          "output_type": "execute_result",
          "data": {
            "text/plain": [
              "array([1, 2, 3, 4, 5])"
            ]
          },
          "metadata": {},
          "execution_count": 7
        }
      ]
    },
    {
      "cell_type": "code",
      "source": [
        "arr2.shape"
      ],
      "metadata": {
        "colab": {
          "base_uri": "https://localhost:8080/"
        },
        "id": "7D9w1xPhRTs5",
        "outputId": "c4cdc0aa-df82-4bbf-b912-224169b5b859"
      },
      "execution_count": null,
      "outputs": [
        {
          "output_type": "execute_result",
          "data": {
            "text/plain": [
              "(5,)"
            ]
          },
          "metadata": {},
          "execution_count": 8
        }
      ]
    },
    {
      "cell_type": "code",
      "source": [
        "# array 자료형 확인\n",
        "arr2.dtype"
      ],
      "metadata": {
        "colab": {
          "base_uri": "https://localhost:8080/"
        },
        "id": "C449Bg-GRVZw",
        "outputId": "30465c64-2fb1-49fc-fb57-6b7278617eca"
      },
      "execution_count": null,
      "outputs": [
        {
          "output_type": "execute_result",
          "data": {
            "text/plain": [
              "dtype('int64')"
            ]
          },
          "metadata": {},
          "execution_count": 9
        }
      ]
    },
    {
      "cell_type": "code",
      "source": [
        "arr3 = np.array(data2)\n",
        "arr3"
      ],
      "metadata": {
        "colab": {
          "base_uri": "https://localhost:8080/"
        },
        "id": "eZfR3h5kRbU4",
        "outputId": "09164c6c-ed29-434f-eba9-4f029ae45a07"
      },
      "execution_count": null,
      "outputs": [
        {
          "output_type": "execute_result",
          "data": {
            "text/plain": [
              "array([1. , 2. , 3. , 3.5, 4. ])"
            ]
          },
          "metadata": {},
          "execution_count": 10
        }
      ]
    },
    {
      "cell_type": "code",
      "source": [
        "arr3.shape"
      ],
      "metadata": {
        "colab": {
          "base_uri": "https://localhost:8080/"
        },
        "id": "X--Xj-luRfzK",
        "outputId": "ac6c5cb8-c00f-4729-cfb3-6c190c32dc5c"
      },
      "execution_count": null,
      "outputs": [
        {
          "output_type": "execute_result",
          "data": {
            "text/plain": [
              "(5,)"
            ]
          },
          "metadata": {},
          "execution_count": 11
        }
      ]
    },
    {
      "cell_type": "code",
      "source": [
        "arr3.dtype"
      ],
      "metadata": {
        "colab": {
          "base_uri": "https://localhost:8080/"
        },
        "id": "NnKVqI45RhJV",
        "outputId": "d7a95f75-67fe-498e-c779-46ad28e63113"
      },
      "execution_count": null,
      "outputs": [
        {
          "output_type": "execute_result",
          "data": {
            "text/plain": [
              "dtype('float64')"
            ]
          },
          "metadata": {},
          "execution_count": 12
        }
      ]
    },
    {
      "cell_type": "code",
      "source": [
        "arr4 = np.array([[1, 2, 3],[4, 5, 6],[7, 8, 9],[10, 11, 12]])\n",
        "arr4"
      ],
      "metadata": {
        "colab": {
          "base_uri": "https://localhost:8080/"
        },
        "id": "D4V1suQ6RiBq",
        "outputId": "1e54981b-f5fb-4901-9fd2-aa1a5b1c3052"
      },
      "execution_count": null,
      "outputs": [
        {
          "output_type": "execute_result",
          "data": {
            "text/plain": [
              "array([[ 1,  2,  3],\n",
              "       [ 4,  5,  6],\n",
              "       [ 7,  8,  9],\n",
              "       [10, 11, 12]])"
            ]
          },
          "metadata": {},
          "execution_count": 13
        }
      ]
    },
    {
      "cell_type": "code",
      "source": [
        "arr4.shape"
      ],
      "metadata": {
        "colab": {
          "base_uri": "https://localhost:8080/"
        },
        "id": "IC1RVvnVR_HX",
        "outputId": "68be5324-b0c9-48b6-eb62-86c3286df062"
      },
      "execution_count": null,
      "outputs": [
        {
          "output_type": "execute_result",
          "data": {
            "text/plain": [
              "(4, 3)"
            ]
          },
          "metadata": {},
          "execution_count": 14
        }
      ]
    },
    {
      "cell_type": "markdown",
      "source": [
        "## 2-1. np.zeros(), np.ones(), np.arange() 함수\n",
        "numpy에서 array를 정의할 때 사용되는 함수"
      ],
      "metadata": {
        "id": "Bvj0_18c48N0"
      }
    },
    {
      "cell_type": "code",
      "source": [
        "# np.zeros() 함수는 인자로 받는 크기만큼, 모든 요소가 0인 array를 만든다.\n",
        "np.zeros(10)"
      ],
      "metadata": {
        "id": "6y9-ePxXSBfU",
        "colab": {
          "base_uri": "https://localhost:8080/"
        },
        "outputId": "fc9dc116-1f6d-46ce-cd4c-6ac66cdf642c"
      },
      "execution_count": null,
      "outputs": [
        {
          "output_type": "execute_result",
          "data": {
            "text/plain": [
              "array([0., 0., 0., 0., 0., 0., 0., 0., 0., 0.])"
            ]
          },
          "metadata": {},
          "execution_count": 15
        }
      ]
    },
    {
      "cell_type": "code",
      "source": [
        "np.zeros((3, 5))"
      ],
      "metadata": {
        "colab": {
          "base_uri": "https://localhost:8080/"
        },
        "id": "l0jAqyzw5MSZ",
        "outputId": "2ac4eb6a-2fc6-4cce-e64b-716a03855b8b"
      },
      "execution_count": null,
      "outputs": [
        {
          "output_type": "execute_result",
          "data": {
            "text/plain": [
              "array([[0., 0., 0., 0., 0.],\n",
              "       [0., 0., 0., 0., 0.],\n",
              "       [0., 0., 0., 0., 0.]])"
            ]
          },
          "metadata": {},
          "execution_count": 19
        }
      ]
    },
    {
      "cell_type": "code",
      "source": [
        "# np.ones() 함수는 인자로 받는 크기만큼, 모든 요소가 1인 array를 만든다.\n",
        "np.ones(9)"
      ],
      "metadata": {
        "colab": {
          "base_uri": "https://localhost:8080/"
        },
        "id": "t1ZX-Xjv5Rx5",
        "outputId": "c51c3d00-497d-462a-9d89-4fbe9f7364ae"
      },
      "execution_count": null,
      "outputs": [
        {
          "output_type": "execute_result",
          "data": {
            "text/plain": [
              "array([1., 1., 1., 1., 1., 1., 1., 1., 1.])"
            ]
          },
          "metadata": {},
          "execution_count": 21
        }
      ]
    },
    {
      "cell_type": "code",
      "source": [
        "np.ones((2, 10))"
      ],
      "metadata": {
        "colab": {
          "base_uri": "https://localhost:8080/"
        },
        "id": "Ge3T4FOA5dhY",
        "outputId": "be70da25-d904-412d-abad-66bee0fa6b97"
      },
      "execution_count": null,
      "outputs": [
        {
          "output_type": "execute_result",
          "data": {
            "text/plain": [
              "array([[1., 1., 1., 1., 1., 1., 1., 1., 1., 1.],\n",
              "       [1., 1., 1., 1., 1., 1., 1., 1., 1., 1.]])"
            ]
          },
          "metadata": {},
          "execution_count": 22
        }
      ]
    },
    {
      "cell_type": "code",
      "source": [
        "# np.arange() 함수는 인자로 받는 값만큼 1씩 증가하는 1차원 array를 만든다.\n",
        "# 이때 하나의 인자만 입력하면 0 ~ 입력한 인자, 값만큼의 크기를 가진다.\n",
        "np.arange(10)"
      ],
      "metadata": {
        "colab": {
          "base_uri": "https://localhost:8080/"
        },
        "id": "vVtx-yR45xvO",
        "outputId": "1ad7373c-16b0-4057-b18a-1c7a0c2e48ba"
      },
      "execution_count": null,
      "outputs": [
        {
          "output_type": "execute_result",
          "data": {
            "text/plain": [
              "array([0, 1, 2, 3, 4, 5, 6, 7, 8, 9])"
            ]
          },
          "metadata": {},
          "execution_count": 24
        }
      ]
    },
    {
      "cell_type": "code",
      "source": [
        "np.arange(3, 10)"
      ],
      "metadata": {
        "colab": {
          "base_uri": "https://localhost:8080/"
        },
        "id": "-lJStnSj5lI2",
        "outputId": "bdcd79d7-a794-446b-8529-7a6f4b129ea7"
      },
      "execution_count": null,
      "outputs": [
        {
          "output_type": "execute_result",
          "data": {
            "text/plain": [
              "array([3, 4, 5, 6, 7, 8, 9])"
            ]
          },
          "metadata": {},
          "execution_count": 23
        }
      ]
    },
    {
      "cell_type": "markdown",
      "source": [
        "# 3. Array 연산\n",
        "numpy의 연산은 크기가 동일한 array끼리 연산이 진행된다. 이 때 같은 위치에 있는 요소들끼리 연산이 된다."
      ],
      "metadata": {
        "id": "G3QHhnYb6VrM"
      }
    },
    {
      "cell_type": "code",
      "source": [
        "arr1 = np.array([[1, 2, 3],[4, 5, 6]])\n",
        "arr1"
      ],
      "metadata": {
        "colab": {
          "base_uri": "https://localhost:8080/"
        },
        "id": "iuc1RrUU50rH",
        "outputId": "ebcb77e9-6cdf-44a2-ff60-17d0c3de6792"
      },
      "execution_count": null,
      "outputs": [
        {
          "output_type": "execute_result",
          "data": {
            "text/plain": [
              "array([[1, 2, 3],\n",
              "       [4, 5, 6]])"
            ]
          },
          "metadata": {},
          "execution_count": 25
        }
      ]
    },
    {
      "cell_type": "code",
      "source": [
        "arr1.shape"
      ],
      "metadata": {
        "colab": {
          "base_uri": "https://localhost:8080/"
        },
        "id": "mJSH4Lgu65Ss",
        "outputId": "068dc8d7-4cc2-475d-b039-761ae1a3ca95"
      },
      "execution_count": null,
      "outputs": [
        {
          "output_type": "execute_result",
          "data": {
            "text/plain": [
              "(2, 3)"
            ]
          },
          "metadata": {},
          "execution_count": 26
        }
      ]
    },
    {
      "cell_type": "code",
      "source": [
        "arr2 = np.array([[10, 11, 12],[13, 14, 15]])\n",
        "arr2"
      ],
      "metadata": {
        "colab": {
          "base_uri": "https://localhost:8080/"
        },
        "id": "WzZP-Aqy66yn",
        "outputId": "5a2a50ad-bf0e-481f-eaad-27f69143c37c"
      },
      "execution_count": null,
      "outputs": [
        {
          "output_type": "execute_result",
          "data": {
            "text/plain": [
              "array([[10, 11, 12],\n",
              "       [13, 14, 15]])"
            ]
          },
          "metadata": {},
          "execution_count": 27
        }
      ]
    },
    {
      "cell_type": "code",
      "source": [
        "arr2.shape"
      ],
      "metadata": {
        "colab": {
          "base_uri": "https://localhost:8080/"
        },
        "id": "xdpPdJlk7B4U",
        "outputId": "05ba74c1-a03a-41d5-a877-120a57a26fe5"
      },
      "execution_count": null,
      "outputs": [
        {
          "output_type": "execute_result",
          "data": {
            "text/plain": [
              "(2, 3)"
            ]
          },
          "metadata": {},
          "execution_count": 28
        }
      ]
    },
    {
      "cell_type": "markdown",
      "source": [
        "## 3-1. Array 덧셈"
      ],
      "metadata": {
        "id": "KKLCjvA77GDG"
      }
    },
    {
      "cell_type": "code",
      "source": [
        "arr1 + arr2"
      ],
      "metadata": {
        "colab": {
          "base_uri": "https://localhost:8080/"
        },
        "id": "Ju4LsciK7D-u",
        "outputId": "6cca85ee-f099-4486-b74d-cd26cf38ea00"
      },
      "execution_count": null,
      "outputs": [
        {
          "output_type": "execute_result",
          "data": {
            "text/plain": [
              "array([[11, 13, 15],\n",
              "       [17, 19, 21]])"
            ]
          },
          "metadata": {},
          "execution_count": 29
        }
      ]
    },
    {
      "cell_type": "markdown",
      "source": [
        "## 3-2. Array 뺄셈"
      ],
      "metadata": {
        "id": "PA8zdskP7nMI"
      }
    },
    {
      "cell_type": "code",
      "source": [
        "arr1 - arr2"
      ],
      "metadata": {
        "colab": {
          "base_uri": "https://localhost:8080/"
        },
        "id": "Jr9bpFx47bmc",
        "outputId": "cc582143-b838-4d99-f340-cf5d01505744"
      },
      "execution_count": null,
      "outputs": [
        {
          "output_type": "execute_result",
          "data": {
            "text/plain": [
              "array([[-9, -9, -9],\n",
              "       [-9, -9, -9]])"
            ]
          },
          "metadata": {},
          "execution_count": 30
        }
      ]
    },
    {
      "cell_type": "markdown",
      "source": [
        "## 3-3. Array 곱셈"
      ],
      "metadata": {
        "id": "XIK7ADmp7sSw"
      }
    },
    {
      "cell_type": "code",
      "source": [
        "arr1 * arr2"
      ],
      "metadata": {
        "colab": {
          "base_uri": "https://localhost:8080/"
        },
        "id": "nSoUoR0_7e71",
        "outputId": "3cfac45f-4255-40e9-c24d-be43161a3ead"
      },
      "execution_count": null,
      "outputs": [
        {
          "output_type": "execute_result",
          "data": {
            "text/plain": [
              "array([[10, 22, 36],\n",
              "       [52, 70, 90]])"
            ]
          },
          "metadata": {},
          "execution_count": 31
        }
      ]
    },
    {
      "cell_type": "markdown",
      "source": [
        "## 3-4. Array 나눗셈"
      ],
      "metadata": {
        "id": "OawS5GIi7x1t"
      }
    },
    {
      "cell_type": "code",
      "source": [
        "arr1 / arr2"
      ],
      "metadata": {
        "colab": {
          "base_uri": "https://localhost:8080/"
        },
        "id": "7Vs2dcyW73gr",
        "outputId": "197127d4-4a07-45ae-f78a-f6259120b7e7"
      },
      "execution_count": null,
      "outputs": [
        {
          "output_type": "execute_result",
          "data": {
            "text/plain": [
              "array([[0.1       , 0.18181818, 0.25      ],\n",
              "       [0.30769231, 0.35714286, 0.4       ]])"
            ]
          },
          "metadata": {},
          "execution_count": 32
        }
      ]
    },
    {
      "cell_type": "markdown",
      "source": [
        "## 3-5. Array의 브로드 캐스트\n",
        "브로드캐스트란, 서로 크기가 다른 array의 연산을 제공한다."
      ],
      "metadata": {
        "id": "IBFv9EFa77ot"
      }
    },
    {
      "cell_type": "code",
      "source": [
        "arr1"
      ],
      "metadata": {
        "colab": {
          "base_uri": "https://localhost:8080/"
        },
        "id": "n2ehIqtZ75ap",
        "outputId": "9d8bb2ca-de7d-499d-a538-e40d6d0e6608"
      },
      "execution_count": null,
      "outputs": [
        {
          "output_type": "execute_result",
          "data": {
            "text/plain": [
              "array([[1, 2, 3],\n",
              "       [4, 5, 6]])"
            ]
          },
          "metadata": {},
          "execution_count": 33
        }
      ]
    },
    {
      "cell_type": "code",
      "source": [
        "arr1.shape"
      ],
      "metadata": {
        "colab": {
          "base_uri": "https://localhost:8080/"
        },
        "id": "lt7CPqtY8IVs",
        "outputId": "f4596ef1-b8e3-4f36-a54a-d0cdfd372c9d"
      },
      "execution_count": null,
      "outputs": [
        {
          "output_type": "execute_result",
          "data": {
            "text/plain": [
              "(2, 3)"
            ]
          },
          "metadata": {},
          "execution_count": 34
        }
      ]
    },
    {
      "cell_type": "code",
      "source": [
        "arr3 = np.array([10, 11, 12])\n",
        "arr3"
      ],
      "metadata": {
        "colab": {
          "base_uri": "https://localhost:8080/"
        },
        "id": "XXbo7Jif8JbY",
        "outputId": "0c0935de-cc54-453e-f983-47eee4873acf"
      },
      "execution_count": null,
      "outputs": [
        {
          "output_type": "execute_result",
          "data": {
            "text/plain": [
              "array([10, 11, 12])"
            ]
          },
          "metadata": {},
          "execution_count": 35
        }
      ]
    },
    {
      "cell_type": "code",
      "source": [
        "arr3.shape"
      ],
      "metadata": {
        "colab": {
          "base_uri": "https://localhost:8080/"
        },
        "id": "MvVsKw-P8QE5",
        "outputId": "d03c7758-e62e-462f-ec89-9c10544baffd"
      },
      "execution_count": null,
      "outputs": [
        {
          "output_type": "execute_result",
          "data": {
            "text/plain": [
              "(3,)"
            ]
          },
          "metadata": {},
          "execution_count": 36
        }
      ]
    },
    {
      "cell_type": "code",
      "source": [
        "arr1 + arr3"
      ],
      "metadata": {
        "colab": {
          "base_uri": "https://localhost:8080/"
        },
        "id": "5W_FC6oa8RF_",
        "outputId": "c563753e-616b-4571-b78d-234c36953b6e"
      },
      "execution_count": null,
      "outputs": [
        {
          "output_type": "execute_result",
          "data": {
            "text/plain": [
              "array([[11, 13, 15],\n",
              "       [14, 16, 18]])"
            ]
          },
          "metadata": {},
          "execution_count": 37
        }
      ]
    },
    {
      "cell_type": "code",
      "source": [
        "arr1 * arr3"
      ],
      "metadata": {
        "colab": {
          "base_uri": "https://localhost:8080/"
        },
        "id": "u_3RCRDg8Tfz",
        "outputId": "bda5ebad-7e24-460c-a870-ae017d24aa64"
      },
      "execution_count": null,
      "outputs": [
        {
          "output_type": "execute_result",
          "data": {
            "text/plain": [
              "array([[10, 22, 36],\n",
              "       [40, 55, 72]])"
            ]
          },
          "metadata": {},
          "execution_count": 38
        }
      ]
    },
    {
      "cell_type": "code",
      "source": [
        "# 위와 같이 서로 크기가 다른 arr1과 arr3의 연산이 가능하다.\n",
        "# 연산 결과를 살펴보면 arr3가 [10,11,12]에서 [[10,11,12],[10,11,12]]로 확장되어 계산되었음을 확인할 수 있다.\n",
        "\n",
        "# 동일한 방식으로 하나의 array에 스칼라 연산도 가능하다."
      ],
      "metadata": {
        "id": "L7rCogDf8V51"
      },
      "execution_count": null,
      "outputs": []
    },
    {
      "cell_type": "code",
      "source": [
        "arr1 * 10"
      ],
      "metadata": {
        "colab": {
          "base_uri": "https://localhost:8080/"
        },
        "id": "-chI0Py68xBK",
        "outputId": "223583a5-d270-421f-8f5b-62e24461fbf2"
      },
      "execution_count": null,
      "outputs": [
        {
          "output_type": "execute_result",
          "data": {
            "text/plain": [
              "array([[10, 20, 30],\n",
              "       [40, 50, 60]])"
            ]
          },
          "metadata": {},
          "execution_count": 40
        }
      ]
    },
    {
      "cell_type": "code",
      "source": [
        "# 요소에 대해 제곱처리\n",
        "arr1 ** 2"
      ],
      "metadata": {
        "colab": {
          "base_uri": "https://localhost:8080/"
        },
        "id": "-aGbJKY48yGU",
        "outputId": "343e8272-c4dd-4fd9-ff50-98f061d3cc7f"
      },
      "execution_count": null,
      "outputs": [
        {
          "output_type": "execute_result",
          "data": {
            "text/plain": [
              "array([[ 1,  4,  9],\n",
              "       [16, 25, 36]])"
            ]
          },
          "metadata": {},
          "execution_count": 41
        }
      ]
    },
    {
      "cell_type": "markdown",
      "source": [
        "# 4. Array 인덱싱\n",
        "numpy의 인덱싱은 python의 인덱싱과 동일하지만 1번째에서 시작하는 것이 아니라 0번째에서 시작하는 것에 주의한다."
      ],
      "metadata": {
        "id": "FsiDwGwx83Hu"
      }
    },
    {
      "cell_type": "code",
      "source": [
        "arr1 = np.arange(10)\n",
        "arr1"
      ],
      "metadata": {
        "colab": {
          "base_uri": "https://localhost:8080/"
        },
        "id": "38WlvbGL81xG",
        "outputId": "b3669724-d7e8-4219-de3b-cab11384828b"
      },
      "execution_count": null,
      "outputs": [
        {
          "output_type": "execute_result",
          "data": {
            "text/plain": [
              "array([0, 1, 2, 3, 4, 5, 6, 7, 8, 9])"
            ]
          },
          "metadata": {},
          "execution_count": 42
        }
      ]
    },
    {
      "cell_type": "code",
      "source": [
        "# 0번째 요소\n",
        "arr1[0]"
      ],
      "metadata": {
        "colab": {
          "base_uri": "https://localhost:8080/"
        },
        "id": "_WBJ62AS9JLk",
        "outputId": "2c4cfe13-b771-4b07-c018-6d77d3526fe0"
      },
      "execution_count": null,
      "outputs": [
        {
          "output_type": "execute_result",
          "data": {
            "text/plain": [
              "0"
            ]
          },
          "metadata": {},
          "execution_count": 43
        }
      ]
    },
    {
      "cell_type": "code",
      "source": [
        "# 3번째 요소\n",
        "arr1[3]"
      ],
      "metadata": {
        "colab": {
          "base_uri": "https://localhost:8080/"
        },
        "id": "jbiZDZfu9Lyo",
        "outputId": "b45c96a0-d7d3-4108-983f-b0bc16060703"
      },
      "execution_count": null,
      "outputs": [
        {
          "output_type": "execute_result",
          "data": {
            "text/plain": [
              "3"
            ]
          },
          "metadata": {},
          "execution_count": 44
        }
      ]
    },
    {
      "cell_type": "code",
      "source": [
        "# 3번째 요소부터 8번째 요소\n",
        "arr1[3:9]"
      ],
      "metadata": {
        "colab": {
          "base_uri": "https://localhost:8080/"
        },
        "id": "CCPWjVys9RMQ",
        "outputId": "4db0de3d-f447-4e78-df62-31d8a1445278"
      },
      "execution_count": null,
      "outputs": [
        {
          "output_type": "execute_result",
          "data": {
            "text/plain": [
              "array([3, 4, 5, 6, 7, 8])"
            ]
          },
          "metadata": {},
          "execution_count": 45
        }
      ]
    },
    {
      "cell_type": "code",
      "source": [
        "arr1[:]"
      ],
      "metadata": {
        "colab": {
          "base_uri": "https://localhost:8080/"
        },
        "id": "xAJ8lGg09eq-",
        "outputId": "8a6540b0-9209-4874-d0f7-857c8e260200"
      },
      "execution_count": null,
      "outputs": [
        {
          "output_type": "execute_result",
          "data": {
            "text/plain": [
              "array([0, 1, 2, 3, 4, 5, 6, 7, 8, 9])"
            ]
          },
          "metadata": {},
          "execution_count": 46
        }
      ]
    },
    {
      "cell_type": "code",
      "source": [
        "# 1차원 이상의 인덱싱"
      ],
      "metadata": {
        "id": "dzGsIbDW9f7c"
      },
      "execution_count": null,
      "outputs": []
    },
    {
      "cell_type": "code",
      "source": [
        "arr2 = np.array([[1,2,3,4],\n",
        "                [5,6,7,8],\n",
        "                [9,10,11,12]])\n",
        "arr2"
      ],
      "metadata": {
        "colab": {
          "base_uri": "https://localhost:8080/"
        },
        "id": "qw3XpZOX9nft",
        "outputId": "7bf7c10b-57c3-4a2b-a618-d1c43b52e2ff"
      },
      "execution_count": null,
      "outputs": [
        {
          "output_type": "execute_result",
          "data": {
            "text/plain": [
              "array([[ 1,  2,  3,  4],\n",
              "       [ 5,  6,  7,  8],\n",
              "       [ 9, 10, 11, 12]])"
            ]
          },
          "metadata": {},
          "execution_count": 48
        }
      ]
    },
    {
      "cell_type": "code",
      "source": [
        "# 2차원의 array의 인덱싱은 2개의 인자 입력\n",
        "arr2[0,0]"
      ],
      "metadata": {
        "colab": {
          "base_uri": "https://localhost:8080/"
        },
        "id": "ZZbh_EdW9y3S",
        "outputId": "d574448f-a28d-49b7-8602-992cbdd26a43"
      },
      "execution_count": null,
      "outputs": [
        {
          "output_type": "execute_result",
          "data": {
            "text/plain": [
              "1"
            ]
          },
          "metadata": {},
          "execution_count": 49
        }
      ]
    },
    {
      "cell_type": "code",
      "source": [
        "# 2행의 모든 요소\n",
        "arr2[2,:]"
      ],
      "metadata": {
        "colab": {
          "base_uri": "https://localhost:8080/"
        },
        "id": "FrebR-pH97PF",
        "outputId": "5e5b26fa-fbb5-4ba1-d92e-45c6c0703d95"
      },
      "execution_count": null,
      "outputs": [
        {
          "output_type": "execute_result",
          "data": {
            "text/plain": [
              "array([ 9, 10, 11, 12])"
            ]
          },
          "metadata": {},
          "execution_count": 50
        }
      ]
    },
    {
      "cell_type": "code",
      "source": [
        "# 2행의 3번째 요소\n",
        "arr2[2,3]"
      ],
      "metadata": {
        "colab": {
          "base_uri": "https://localhost:8080/"
        },
        "id": "4ip4mKw4-AkH",
        "outputId": "3f50154c-949a-4296-a5ff-31aea18455c9"
      },
      "execution_count": null,
      "outputs": [
        {
          "output_type": "execute_result",
          "data": {
            "text/plain": [
              "12"
            ]
          },
          "metadata": {},
          "execution_count": 51
        }
      ]
    },
    {
      "cell_type": "code",
      "source": [
        "# 모든 행의 3번째 요소\n",
        "arr2[:,3]"
      ],
      "metadata": {
        "colab": {
          "base_uri": "https://localhost:8080/"
        },
        "id": "_T0WsJXT-HI7",
        "outputId": "e82d302b-d793-4a7c-c581-2906b6693576"
      },
      "execution_count": null,
      "outputs": [
        {
          "output_type": "execute_result",
          "data": {
            "text/plain": [
              "array([ 4,  8, 12])"
            ]
          },
          "metadata": {},
          "execution_count": 52
        }
      ]
    },
    {
      "cell_type": "markdown",
      "source": [
        "# 5. Array boolean 인덱싱(마스크)\n",
        "위에서 이용한 다차원 인덱싱을 응용해 boolean 인덱싱을 할 수 있다. 해당 기능은 주로 마스크라고 이야기하는데, boolean 인덱싱을 통해 만들어낸 array를 통해 우리가 원하는 행 또는 열의 값만 뽑아낼 수 있다. 즉, 마스크처럼 우리가 가리고 싶은 부분은 가리고, 원하는 요소만 꺼낼 수 있다."
      ],
      "metadata": {
        "id": "aBKBgEvg-PBc"
      }
    },
    {
      "cell_type": "code",
      "source": [
        "names = np.array(['Beomwoo', 'Beomwoo', 'Kim', 'Joan', 'Lee', 'Beomwoo', 'Park', 'Beomwoo'])\n",
        "names"
      ],
      "metadata": {
        "colab": {
          "base_uri": "https://localhost:8080/"
        },
        "id": "dBZv1CwN-LoS",
        "outputId": "c9248605-a044-443d-cfb1-589799df8d19"
      },
      "execution_count": null,
      "outputs": [
        {
          "output_type": "execute_result",
          "data": {
            "text/plain": [
              "array(['Beomwoo', 'Beomwoo', 'Kim', 'Joan', 'Lee', 'Beomwoo', 'Park',\n",
              "       'Beomwoo'], dtype='<U7')"
            ]
          },
          "metadata": {},
          "execution_count": 53
        }
      ]
    },
    {
      "cell_type": "code",
      "source": [
        "names.shape"
      ],
      "metadata": {
        "colab": {
          "base_uri": "https://localhost:8080/"
        },
        "id": "XNbRb4UuAW4e",
        "outputId": "c6a6427b-42c2-4ec0-c273-bbd95a16cddd"
      },
      "execution_count": null,
      "outputs": [
        {
          "output_type": "execute_result",
          "data": {
            "text/plain": [
              "(8,)"
            ]
          },
          "metadata": {},
          "execution_count": 54
        }
      ]
    },
    {
      "cell_type": "code",
      "source": [
        "# 아래에서 사용되는 np.random.randn() 함수는 기대값이 0이고, 표준편차가 1인 가우시안 정규 분포를 따르는 난수를 발생시키는 함수\n",
        "# 이 외에도 0~1의 난수를 발생시키는 np.random.rand() 함수도 존재\n",
        "\n",
        "data = np.random.randn(8,4)\n",
        "data"
      ],
      "metadata": {
        "colab": {
          "base_uri": "https://localhost:8080/"
        },
        "id": "-54jqlezAaER",
        "outputId": "0099e3e0-ba75-4a27-9efa-46a96787c18b"
      },
      "execution_count": null,
      "outputs": [
        {
          "output_type": "execute_result",
          "data": {
            "text/plain": [
              "array([[ 1.42045142,  0.36224344, -0.42868207,  0.59664106],\n",
              "       [-0.76830986, -1.48458125,  0.04368187,  0.93664841],\n",
              "       [-0.31895722, -1.14091038,  0.57366985,  0.06399942],\n",
              "       [ 0.38649918, -0.49734581,  0.58403886, -1.53894322],\n",
              "       [ 0.54016904,  0.38376502,  0.55627804,  0.09226111],\n",
              "       [ 1.14892549,  0.10977836,  0.61219498, -0.7434224 ],\n",
              "       [ 1.2165577 ,  1.48047813, -1.63307469, -2.47855039],\n",
              "       [-0.38695725,  1.69532749,  1.14967093,  0.1607423 ]])"
            ]
          },
          "metadata": {},
          "execution_count": 55
        }
      ]
    },
    {
      "cell_type": "code",
      "source": [
        "data.shape"
      ],
      "metadata": {
        "colab": {
          "base_uri": "https://localhost:8080/"
        },
        "id": "4W_EngoYBl8Z",
        "outputId": "79d205f8-a74d-4d36-f64a-03a6a33d86da"
      },
      "execution_count": null,
      "outputs": [
        {
          "output_type": "execute_result",
          "data": {
            "text/plain": [
              "(8, 4)"
            ]
          },
          "metadata": {},
          "execution_count": 56
        }
      ]
    },
    {
      "cell_type": "code",
      "source": [
        "# names의 각 요소가 data의 각 행과 연결된다고 가정해보자.\n",
        "# 그리고 이 때, names가 Beomwoo인 행의 data만 보고 싶을 때 다음과 같이 마스크를 사용한다.\n",
        "\n",
        "# 요소가 Beomwoo인 항목에 대한 mask 생성\n",
        "names_Beomwoo_mask = (names == 'Beomwoo')\n",
        "names_Beomwoo_mask"
      ],
      "metadata": {
        "colab": {
          "base_uri": "https://localhost:8080/"
        },
        "id": "0IPTfrE4BpUv",
        "outputId": "2f980543-52fd-456d-fbc7-ac8135d2c76c"
      },
      "execution_count": null,
      "outputs": [
        {
          "output_type": "execute_result",
          "data": {
            "text/plain": [
              "array([ True,  True, False, False, False,  True, False,  True])"
            ]
          },
          "metadata": {},
          "execution_count": 57
        }
      ]
    },
    {
      "cell_type": "code",
      "source": [
        "data[names_Beomwoo_mask,:]    # 요소가 Beomwoo인 것에 대한 boolean값을 가지는 mask를 인덱싱에 응용하여 data의 0,1,5,7행을 꺼냄"
      ],
      "metadata": {
        "colab": {
          "base_uri": "https://localhost:8080/"
        },
        "id": "QNMii3k2CKww",
        "outputId": "b83f3a4e-4ef5-44e2-9c92-99811bed1b59"
      },
      "execution_count": null,
      "outputs": [
        {
          "output_type": "execute_result",
          "data": {
            "text/plain": [
              "array([[ 1.42045142,  0.36224344, -0.42868207,  0.59664106],\n",
              "       [-0.76830986, -1.48458125,  0.04368187,  0.93664841],\n",
              "       [ 1.14892549,  0.10977836,  0.61219498, -0.7434224 ],\n",
              "       [-0.38695725,  1.69532749,  1.14967093,  0.1607423 ]])"
            ]
          },
          "metadata": {},
          "execution_count": 58
        }
      ]
    },
    {
      "cell_type": "code",
      "source": [
        "# 요소가 Kim인 행의 데이터만 꺼내기\n",
        "data[names == 'Kim',:]"
      ],
      "metadata": {
        "colab": {
          "base_uri": "https://localhost:8080/"
        },
        "id": "4nNIu0lrCSPf",
        "outputId": "d3d5e4c2-7fcb-4dcd-c922-8b7b62386d02"
      },
      "execution_count": null,
      "outputs": [
        {
          "output_type": "execute_result",
          "data": {
            "text/plain": [
              "array([[-0.31895722, -1.14091038,  0.57366985,  0.06399942]])"
            ]
          },
          "metadata": {},
          "execution_count": 59
        }
      ]
    },
    {
      "cell_type": "code",
      "source": [
        "# 논리 연산을 응용해 요소가 Kim 또는 Park인 행의 데이터만 꺼내기\n",
        "data[(names == 'Kim') | (names == 'Park'),:]"
      ],
      "metadata": {
        "colab": {
          "base_uri": "https://localhost:8080/"
        },
        "id": "YZzQkxJyDHzp",
        "outputId": "898d48b2-67c2-49f3-b030-1ffd0a7d5d06"
      },
      "execution_count": null,
      "outputs": [
        {
          "output_type": "execute_result",
          "data": {
            "text/plain": [
              "array([[-0.31895722, -1.14091038,  0.57366985,  0.06399942],\n",
              "       [ 1.2165577 ,  1.48047813, -1.63307469, -2.47855039]])"
            ]
          },
          "metadata": {},
          "execution_count": 60
        }
      ]
    },
    {
      "cell_type": "code",
      "source": [
        "# data array 자체적으로도 마스크를 만들고 응용하여 인덱싱이 가능하다.\n",
        "# data array에서 0번째 열의 값이 음수인 행을 구해보자.\n",
        "\n",
        "# 마스크 만들기\n",
        "# data array에서 0번째 열이 음수인 요소의 boolean값은 다음과 같다.\n",
        "data[:,0] < 0"
      ],
      "metadata": {
        "colab": {
          "base_uri": "https://localhost:8080/"
        },
        "id": "9Y7nTNd6DVsp",
        "outputId": "2b906960-7ae5-4522-fba9-80d0efca8600"
      },
      "execution_count": null,
      "outputs": [
        {
          "output_type": "execute_result",
          "data": {
            "text/plain": [
              "array([False,  True,  True, False, False, False, False,  True])"
            ]
          },
          "metadata": {},
          "execution_count": 61
        }
      ]
    },
    {
      "cell_type": "code",
      "source": [
        "# 만든 마스크를 이용해 0번째 열이 음수인 행 구하기\n",
        "data[data[:,0]<0,:]"
      ],
      "metadata": {
        "colab": {
          "base_uri": "https://localhost:8080/"
        },
        "id": "sm1cDGRBD_Vj",
        "outputId": "7e3258a7-eb3d-479d-8d84-73c9f825ea94"
      },
      "execution_count": null,
      "outputs": [
        {
          "output_type": "execute_result",
          "data": {
            "text/plain": [
              "array([[-0.76830986, -1.48458125,  0.04368187,  0.93664841],\n",
              "       [-0.31895722, -1.14091038,  0.57366985,  0.06399942],\n",
              "       [-0.38695725,  1.69532749,  1.14967093,  0.1607423 ]])"
            ]
          },
          "metadata": {},
          "execution_count": 62
        }
      ]
    },
    {
      "cell_type": "code",
      "source": [
        "# 특정 위치에 원하는 값 대입하기\n",
        "\n",
        "# 0번째 열의 값이 음수인 행의 2,3번째 열의 값\n",
        "data[data[:,0]<0,2:4]"
      ],
      "metadata": {
        "colab": {
          "base_uri": "https://localhost:8080/"
        },
        "id": "E-x-Z1dgEcmB",
        "outputId": "9931e463-1f43-4a76-b44e-a23821ccc949"
      },
      "execution_count": null,
      "outputs": [
        {
          "output_type": "execute_result",
          "data": {
            "text/plain": [
              "array([[0.04368187, 0.93664841],\n",
              "       [0.57366985, 0.06399942],\n",
              "       [1.14967093, 0.1607423 ]])"
            ]
          },
          "metadata": {},
          "execution_count": 63
        }
      ]
    },
    {
      "cell_type": "code",
      "source": [
        "data[data[:,0]<0,2:4] = 0\n",
        "data"
      ],
      "metadata": {
        "colab": {
          "base_uri": "https://localhost:8080/"
        },
        "id": "dOyqZcx6E34Z",
        "outputId": "5b485035-8f67-4079-b1c2-8043ff2c0dd9"
      },
      "execution_count": null,
      "outputs": [
        {
          "output_type": "execute_result",
          "data": {
            "text/plain": [
              "array([[ 1.42045142,  0.36224344, -0.42868207,  0.59664106],\n",
              "       [-0.76830986, -1.48458125,  0.        ,  0.        ],\n",
              "       [-0.31895722, -1.14091038,  0.        ,  0.        ],\n",
              "       [ 0.38649918, -0.49734581,  0.58403886, -1.53894322],\n",
              "       [ 0.54016904,  0.38376502,  0.55627804,  0.09226111],\n",
              "       [ 1.14892549,  0.10977836,  0.61219498, -0.7434224 ],\n",
              "       [ 1.2165577 ,  1.48047813, -1.63307469, -2.47855039],\n",
              "       [-0.38695725,  1.69532749,  0.        ,  0.        ]])"
            ]
          },
          "metadata": {},
          "execution_count": 64
        }
      ]
    },
    {
      "cell_type": "markdown",
      "source": [
        "# 6. Numpy 함수"
      ],
      "metadata": {
        "id": "GE58fcqmFBs6"
      }
    },
    {
      "cell_type": "markdown",
      "source": [
        "## 6-1. 하나의 array에 적용되는 함수"
      ],
      "metadata": {
        "id": "STVVnpkgFKpy"
      }
    },
    {
      "cell_type": "code",
      "source": [
        "arr1 = np.random.randn(5,3)\n",
        "arr1"
      ],
      "metadata": {
        "colab": {
          "base_uri": "https://localhost:8080/"
        },
        "id": "rkp1UwpEE_1d",
        "outputId": "9b56a2df-38ee-4126-adc6-7ea3a74d7de5"
      },
      "execution_count": null,
      "outputs": [
        {
          "output_type": "execute_result",
          "data": {
            "text/plain": [
              "array([[-0.64342817,  0.69192033, -0.82966441],\n",
              "       [-0.04458924,  0.02631139,  0.95009122],\n",
              "       [ 0.72226044, -1.85317637, -0.92741334],\n",
              "       [ 0.53718689, -0.42208377,  0.05331377],\n",
              "       [ 1.24493999,  1.0719583 , -0.9425513 ]])"
            ]
          },
          "metadata": {},
          "execution_count": 65
        }
      ]
    },
    {
      "cell_type": "code",
      "source": [
        "# 각 성분의 절대값 계산\n",
        "np.abs(arr1)"
      ],
      "metadata": {
        "colab": {
          "base_uri": "https://localhost:8080/"
        },
        "id": "pev0hSMTFTgB",
        "outputId": "830875b5-18bc-4eb0-a274-291e38227b13"
      },
      "execution_count": null,
      "outputs": [
        {
          "output_type": "execute_result",
          "data": {
            "text/plain": [
              "array([[0.64342817, 0.69192033, 0.82966441],\n",
              "       [0.04458924, 0.02631139, 0.95009122],\n",
              "       [0.72226044, 1.85317637, 0.92741334],\n",
              "       [0.53718689, 0.42208377, 0.05331377],\n",
              "       [1.24493999, 1.0719583 , 0.9425513 ]])"
            ]
          },
          "metadata": {},
          "execution_count": 66
        }
      ]
    },
    {
      "cell_type": "code",
      "source": [
        "# 각 성분의 제곱근 계산 ( == array ** 0.5)\n",
        "np.sqrt(arr1)"
      ],
      "metadata": {
        "colab": {
          "base_uri": "https://localhost:8080/"
        },
        "id": "XrcgN3_GFZXc",
        "outputId": "87514c92-54ca-429d-e5f2-db57d21686d5"
      },
      "execution_count": null,
      "outputs": [
        {
          "output_type": "stream",
          "name": "stderr",
          "text": [
            "/usr/local/lib/python3.7/dist-packages/ipykernel_launcher.py:2: RuntimeWarning: invalid value encountered in sqrt\n",
            "  \n"
          ]
        },
        {
          "output_type": "execute_result",
          "data": {
            "text/plain": [
              "array([[       nan, 0.83181749,        nan],\n",
              "       [       nan, 0.16220785, 0.97472623],\n",
              "       [0.84985907,        nan,        nan],\n",
              "       [0.73293034,        nan, 0.23089775],\n",
              "       [1.11576879, 1.03535419,        nan]])"
            ]
          },
          "metadata": {},
          "execution_count": 67
        }
      ]
    },
    {
      "cell_type": "code",
      "source": [
        "# 각 성분의 제곱 계산\n",
        "np.square(arr1)"
      ],
      "metadata": {
        "colab": {
          "base_uri": "https://localhost:8080/"
        },
        "id": "9qsbFC2oFiLm",
        "outputId": "4b71ce0a-9b60-45c0-a095-31c8b3c63043"
      },
      "execution_count": null,
      "outputs": [
        {
          "output_type": "execute_result",
          "data": {
            "text/plain": [
              "array([[4.13999806e-01, 4.78753747e-01, 6.88343038e-01],\n",
              "       [1.98820077e-03, 6.92289138e-04, 9.02673323e-01],\n",
              "       [5.21660137e-01, 3.43426267e+00, 8.60095500e-01],\n",
              "       [2.88569753e-01, 1.78154708e-01, 2.84235813e-03],\n",
              "       [1.54987558e+00, 1.14909459e+00, 8.88402952e-01]])"
            ]
          },
          "metadata": {},
          "execution_count": 68
        }
      ]
    },
    {
      "cell_type": "code",
      "source": [
        "# 각 성분을 무리수 e의 지수로 삼은 값 계산\n",
        "np.exp(arr1)"
      ],
      "metadata": {
        "colab": {
          "base_uri": "https://localhost:8080/"
        },
        "id": "u8OhZd23FnSq",
        "outputId": "55c9dd35-55bb-47ad-b50c-a4cdf3226fc5"
      },
      "execution_count": null,
      "outputs": [
        {
          "output_type": "execute_result",
          "data": {
            "text/plain": [
              "array([[0.52548787, 1.99754781, 0.43619564],\n",
              "       [0.95639024, 1.02666059, 2.58594553],\n",
              "       [2.05908238, 0.15673851, 0.39557561],\n",
              "       [1.71118633, 0.65567911, 1.05476055],\n",
              "       [3.47272639, 2.92109428, 0.3896325 ]])"
            ]
          },
          "metadata": {},
          "execution_count": 69
        }
      ]
    },
    {
      "cell_type": "code",
      "source": [
        "# 각 성분을 자연로그, 상용로그, 밑이 2인 로그를 씌운 값 계산\n",
        "np.log(arr1)"
      ],
      "metadata": {
        "colab": {
          "base_uri": "https://localhost:8080/"
        },
        "id": "AHpMmhWkFwds",
        "outputId": "05a413b4-88a9-47a0-aa7c-f311aa105279"
      },
      "execution_count": null,
      "outputs": [
        {
          "output_type": "stream",
          "name": "stderr",
          "text": [
            "/usr/local/lib/python3.7/dist-packages/ipykernel_launcher.py:2: RuntimeWarning: invalid value encountered in log\n",
            "  \n"
          ]
        },
        {
          "output_type": "execute_result",
          "data": {
            "text/plain": [
              "array([[        nan, -0.36828446,         nan],\n",
              "       [        nan, -3.63775343, -0.05119728],\n",
              "       [-0.32536949,         nan,         nan],\n",
              "       [-0.62140922,         nan, -2.93156062],\n",
              "       [ 0.21908733,  0.06948716,         nan]])"
            ]
          },
          "metadata": {},
          "execution_count": 70
        }
      ]
    },
    {
      "cell_type": "code",
      "source": [
        "np.log10(arr1)"
      ],
      "metadata": {
        "colab": {
          "base_uri": "https://localhost:8080/"
        },
        "id": "I9a0fMLiGN5f",
        "outputId": "fe82d7d3-260d-4d3f-bec7-cf1b2661f5a3"
      },
      "execution_count": null,
      "outputs": [
        {
          "output_type": "stream",
          "name": "stderr",
          "text": [
            "/usr/local/lib/python3.7/dist-packages/ipykernel_launcher.py:1: RuntimeWarning: invalid value encountered in log10\n",
            "  \"\"\"Entry point for launching an IPython kernel.\n"
          ]
        },
        {
          "output_type": "execute_result",
          "data": {
            "text/plain": [
              "array([[        nan, -0.15994391,         nan],\n",
              "       [        nan, -1.57985624, -0.0222347 ],\n",
              "       [-0.14130617,         nan,         nan],\n",
              "       [-0.2698746 ,         nan, -1.2731606 ],\n",
              "       [ 0.09514842,  0.03017789,         nan]])"
            ]
          },
          "metadata": {},
          "execution_count": 71
        }
      ]
    },
    {
      "cell_type": "code",
      "source": [
        "np.log2(arr1)"
      ],
      "metadata": {
        "colab": {
          "base_uri": "https://localhost:8080/"
        },
        "id": "ORgEl5R4GQaG",
        "outputId": "1480847b-0faf-46e8-e23b-769c4408edce"
      },
      "execution_count": null,
      "outputs": [
        {
          "output_type": "stream",
          "name": "stderr",
          "text": [
            "/usr/local/lib/python3.7/dist-packages/ipykernel_launcher.py:1: RuntimeWarning: invalid value encountered in log2\n",
            "  \"\"\"Entry point for launching an IPython kernel.\n"
          ]
        },
        {
          "output_type": "execute_result",
          "data": {
            "text/plain": [
              "array([[        nan, -0.53132216,         nan],\n",
              "       [        nan, -5.24816883, -0.07386206],\n",
              "       [-0.46940895,         nan,         nan],\n",
              "       [-0.896504  ,         nan, -4.22934797],\n",
              "       [ 0.3160762 ,  0.10024878,         nan]])"
            ]
          },
          "metadata": {},
          "execution_count": 72
        }
      ]
    },
    {
      "cell_type": "code",
      "source": [
        "# 각 성분의 부호 계산 (+인 경우는 1, -인 경우는 -1, 0인 경우는 0)\n",
        "np.sign(arr1)"
      ],
      "metadata": {
        "colab": {
          "base_uri": "https://localhost:8080/"
        },
        "id": "Y7rLmjFCGTyf",
        "outputId": "eb8483c9-a7fc-4514-98c7-60ce7ff62eaf"
      },
      "execution_count": null,
      "outputs": [
        {
          "output_type": "execute_result",
          "data": {
            "text/plain": [
              "array([[-1.,  1., -1.],\n",
              "       [-1.,  1.,  1.],\n",
              "       [ 1., -1., -1.],\n",
              "       [ 1., -1.,  1.],\n",
              "       [ 1.,  1., -1.]])"
            ]
          },
          "metadata": {},
          "execution_count": 73
        }
      ]
    },
    {
      "cell_type": "code",
      "source": [
        "# 각 성분의 소수 첫 번째 자리에서 올림한 값 계산\n",
        "np.ceil(arr1)"
      ],
      "metadata": {
        "colab": {
          "base_uri": "https://localhost:8080/"
        },
        "id": "c_bzN8NsGh9g",
        "outputId": "6e8a9ebb-0d29-4046-a549-a6820e355443"
      },
      "execution_count": null,
      "outputs": [
        {
          "output_type": "execute_result",
          "data": {
            "text/plain": [
              "array([[-0.,  1., -0.],\n",
              "       [-0.,  1.,  1.],\n",
              "       [ 1., -1., -0.],\n",
              "       [ 1., -0.,  1.],\n",
              "       [ 2.,  2., -0.]])"
            ]
          },
          "metadata": {},
          "execution_count": 74
        }
      ]
    },
    {
      "cell_type": "code",
      "source": [
        "# 각 성분의 소수 첫 번째 자리에서 내림한 값 계산\n",
        "np.floor(arr1)"
      ],
      "metadata": {
        "colab": {
          "base_uri": "https://localhost:8080/"
        },
        "id": "McyP0wHDGqlf",
        "outputId": "123c1ec8-d2f8-42a2-f07c-488aa1a1ce9f"
      },
      "execution_count": null,
      "outputs": [
        {
          "output_type": "execute_result",
          "data": {
            "text/plain": [
              "array([[-1.,  0., -1.],\n",
              "       [-1.,  0.,  0.],\n",
              "       [ 0., -2., -1.],\n",
              "       [ 0., -1.,  0.],\n",
              "       [ 1.,  1., -1.]])"
            ]
          },
          "metadata": {},
          "execution_count": 75
        }
      ]
    },
    {
      "cell_type": "code",
      "source": [
        "# 각 성분이 NaN인 경우 True, 아닌 경우 False 반환\n",
        "np.isnan(arr1)"
      ],
      "metadata": {
        "colab": {
          "base_uri": "https://localhost:8080/"
        },
        "id": "2MxBvnO9GxtV",
        "outputId": "691fa12f-789d-4ff1-af69-7a3945657dc1"
      },
      "execution_count": null,
      "outputs": [
        {
          "output_type": "execute_result",
          "data": {
            "text/plain": [
              "array([[False, False, False],\n",
              "       [False, False, False],\n",
              "       [False, False, False],\n",
              "       [False, False, False],\n",
              "       [False, False, False]])"
            ]
          },
          "metadata": {},
          "execution_count": 76
        }
      ]
    },
    {
      "cell_type": "code",
      "source": [
        "np.isnan(np.log(arr1))"
      ],
      "metadata": {
        "colab": {
          "base_uri": "https://localhost:8080/"
        },
        "id": "B_1L7n7aG-AN",
        "outputId": "992af76a-8e0e-47e6-bb80-9a427ca8375e"
      },
      "execution_count": null,
      "outputs": [
        {
          "output_type": "stream",
          "name": "stderr",
          "text": [
            "/usr/local/lib/python3.7/dist-packages/ipykernel_launcher.py:1: RuntimeWarning: invalid value encountered in log\n",
            "  \"\"\"Entry point for launching an IPython kernel.\n"
          ]
        },
        {
          "output_type": "execute_result",
          "data": {
            "text/plain": [
              "array([[ True, False,  True],\n",
              "       [ True, False, False],\n",
              "       [False,  True,  True],\n",
              "       [False,  True, False],\n",
              "       [False, False,  True]])"
            ]
          },
          "metadata": {},
          "execution_count": 77
        }
      ]
    },
    {
      "cell_type": "code",
      "source": [
        "# 각 성분이 무한대인 경우 True, 아닌 경우 False 반환\n",
        "np.isinf(arr1)"
      ],
      "metadata": {
        "colab": {
          "base_uri": "https://localhost:8080/"
        },
        "id": "DD2ES8IkG_7W",
        "outputId": "b86b85a3-0fde-4b93-ccb5-4aa359f191c9"
      },
      "execution_count": null,
      "outputs": [
        {
          "output_type": "execute_result",
          "data": {
            "text/plain": [
              "array([[False, False, False],\n",
              "       [False, False, False],\n",
              "       [False, False, False],\n",
              "       [False, False, False],\n",
              "       [False, False, False]])"
            ]
          },
          "metadata": {},
          "execution_count": 78
        }
      ]
    },
    {
      "cell_type": "code",
      "source": [
        "# 각 성분에 대해 삼각함수 값을 계산 (cos, cosh, sin, sinh, tan, tanh)\n",
        "np.cos(arr1)"
      ],
      "metadata": {
        "colab": {
          "base_uri": "https://localhost:8080/"
        },
        "id": "j812otZYHHzB",
        "outputId": "c5adaeda-5d04-438b-ecc3-4b9956ec0770"
      },
      "execution_count": null,
      "outputs": [
        {
          "output_type": "execute_result",
          "data": {
            "text/plain": [
              "array([[ 0.80004376,  0.77002223,  0.67512336],\n",
              "       [ 0.99900606,  0.99965388,  0.58160889],\n",
              "       [ 0.75031331, -0.27864222,  0.5999055 ],\n",
              "       [ 0.85915161,  0.91223728,  0.99857916],\n",
              "       [ 0.32012018,  0.47840549,  0.58772579]])"
            ]
          },
          "metadata": {},
          "execution_count": 79
        }
      ]
    },
    {
      "cell_type": "code",
      "source": [
        "np.tanh(arr1)"
      ],
      "metadata": {
        "colab": {
          "base_uri": "https://localhost:8080/"
        },
        "id": "ZmHYgA1yHjfK",
        "outputId": "9741684c-1626-4d0d-bb06-6d2714885aff"
      },
      "execution_count": null,
      "outputs": [
        {
          "output_type": "execute_result",
          "data": {
            "text/plain": [
              "array([[-0.56722923,  0.59921424, -0.68029577],\n",
              "       [-0.04455972,  0.02630532,  0.73982434],\n",
              "       [ 0.61830752, -0.9520442 , -0.72938563],\n",
              "       [ 0.49085559, -0.39868444,  0.05326332],\n",
              "       [ 0.84685863,  0.79019787, -0.73639225]])"
            ]
          },
          "metadata": {},
          "execution_count": 80
        }
      ]
    },
    {
      "cell_type": "markdown",
      "source": [
        "## 6-2. 두 개의 array에 적용되는 함수"
      ],
      "metadata": {
        "id": "5sq3EIIuHnvs"
      }
    },
    {
      "cell_type": "code",
      "source": [
        "arr1"
      ],
      "metadata": {
        "colab": {
          "base_uri": "https://localhost:8080/"
        },
        "id": "r2k6asezHmoc",
        "outputId": "c8154494-d6ae-4dd2-8e3b-205c0326f4a9"
      },
      "execution_count": null,
      "outputs": [
        {
          "output_type": "execute_result",
          "data": {
            "text/plain": [
              "array([[-0.64342817,  0.69192033, -0.82966441],\n",
              "       [-0.04458924,  0.02631139,  0.95009122],\n",
              "       [ 0.72226044, -1.85317637, -0.92741334],\n",
              "       [ 0.53718689, -0.42208377,  0.05331377],\n",
              "       [ 1.24493999,  1.0719583 , -0.9425513 ]])"
            ]
          },
          "metadata": {},
          "execution_count": 81
        }
      ]
    },
    {
      "cell_type": "code",
      "source": [
        "arr2 = np.random.randn(5, 3)\n",
        "arr2"
      ],
      "metadata": {
        "colab": {
          "base_uri": "https://localhost:8080/"
        },
        "id": "xIiWFQXEINuz",
        "outputId": "e765af2b-117c-4c2a-ceae-e65c1a25bb23"
      },
      "execution_count": null,
      "outputs": [
        {
          "output_type": "execute_result",
          "data": {
            "text/plain": [
              "array([[ 0.12745629, -0.11154995,  1.36029031],\n",
              "       [-0.21019265, -0.89647126,  0.05957067],\n",
              "       [ 0.85741094,  0.29309406, -0.10110737],\n",
              "       [ 1.64201089,  0.12058119, -0.72849402],\n",
              "       [ 0.6204536 ,  0.14080635,  2.48861092]])"
            ]
          },
          "metadata": {},
          "execution_count": 82
        }
      ]
    },
    {
      "cell_type": "code",
      "source": [
        "# 두 개의 array에 대해 동일한 위치의 성분끼리 연산 값 게산(add, subtract, multiply, divide)\n",
        "np.multiply(arr1, arr2)"
      ],
      "metadata": {
        "colab": {
          "base_uri": "https://localhost:8080/"
        },
        "id": "J0PCYFooITJr",
        "outputId": "475da5c0-59f9-42e5-8e53-6e8167521b2c"
      },
      "execution_count": null,
      "outputs": [
        {
          "output_type": "execute_result",
          "data": {
            "text/plain": [
              "array([[-0.08200897, -0.07718368, -1.12858446],\n",
              "       [ 0.00937233, -0.0235874 ,  0.05659757],\n",
              "       [ 0.619274  , -0.54315498,  0.09376832],\n",
              "       [ 0.88206672, -0.05089536, -0.03883876],\n",
              "       [ 0.77242749,  0.15093853, -2.34564346]])"
            ]
          },
          "metadata": {},
          "execution_count": 83
        }
      ]
    },
    {
      "cell_type": "code",
      "source": [
        "# 동일한 위치의 성분끼리 비교해 최대값 또는 최소값 계산(maximum, minimum)\n",
        "np.maximum(arr1, arr2)"
      ],
      "metadata": {
        "colab": {
          "base_uri": "https://localhost:8080/"
        },
        "id": "e3LgsH0AIf9G",
        "outputId": "dabe26fb-a7c6-4e23-f82a-95fa2d9d99ba"
      },
      "execution_count": null,
      "outputs": [
        {
          "output_type": "execute_result",
          "data": {
            "text/plain": [
              "array([[ 0.12745629,  0.69192033,  1.36029031],\n",
              "       [-0.04458924,  0.02631139,  0.95009122],\n",
              "       [ 0.85741094,  0.29309406, -0.10110737],\n",
              "       [ 1.64201089,  0.12058119,  0.05331377],\n",
              "       [ 1.24493999,  1.0719583 ,  2.48861092]])"
            ]
          },
          "metadata": {},
          "execution_count": 84
        }
      ]
    },
    {
      "cell_type": "markdown",
      "source": [
        "## 6-3. 통계 함수\n",
        "통계 함수를 통해 array의 합이나 평균 등을 구할 때 추가로 axis라는 인자에 대한 값을 지정하여 열 또는 행의 합 또는 평균 등을 구할 수 있다."
      ],
      "metadata": {
        "id": "LDUflLkwJKPr"
      }
    },
    {
      "cell_type": "code",
      "source": [
        "arr1"
      ],
      "metadata": {
        "colab": {
          "base_uri": "https://localhost:8080/"
        },
        "id": "Ia_GsIb-JIQL",
        "outputId": "e83c523a-d4fa-450f-d1f4-91de3d53ddbb"
      },
      "execution_count": null,
      "outputs": [
        {
          "output_type": "execute_result",
          "data": {
            "text/plain": [
              "array([[-0.64342817,  0.69192033, -0.82966441],\n",
              "       [-0.04458924,  0.02631139,  0.95009122],\n",
              "       [ 0.72226044, -1.85317637, -0.92741334],\n",
              "       [ 0.53718689, -0.42208377,  0.05331377],\n",
              "       [ 1.24493999,  1.0719583 , -0.9425513 ]])"
            ]
          },
          "metadata": {},
          "execution_count": 85
        }
      ]
    },
    {
      "cell_type": "code",
      "source": [
        "# 전체 성분의 합\n",
        "np.sum(arr1)"
      ],
      "metadata": {
        "colab": {
          "base_uri": "https://localhost:8080/"
        },
        "id": "PHdUkpg5JXmq",
        "outputId": "d9310d6c-7e4c-4df2-f720-46c9d2331a3c"
      },
      "execution_count": null,
      "outputs": [
        {
          "output_type": "execute_result",
          "data": {
            "text/plain": [
              "-0.3649242844293282"
            ]
          },
          "metadata": {},
          "execution_count": 86
        }
      ]
    },
    {
      "cell_type": "code",
      "source": [
        "# 열 간의 합\n",
        "np.sum(arr1, axis = 1)"
      ],
      "metadata": {
        "colab": {
          "base_uri": "https://localhost:8080/"
        },
        "id": "iDKVSsTLJanG",
        "outputId": "0a7b4c69-69f2-4c32-a972-2058c0cdece4"
      },
      "execution_count": null,
      "outputs": [
        {
          "output_type": "execute_result",
          "data": {
            "text/plain": [
              "array([-0.78117225,  0.93181336, -2.05832928,  0.16841689,  1.37434699])"
            ]
          },
          "metadata": {},
          "execution_count": 87
        }
      ]
    },
    {
      "cell_type": "code",
      "source": [
        "# 행 간의 합\n",
        "np.sum(arr1, axis = 0)"
      ],
      "metadata": {
        "colab": {
          "base_uri": "https://localhost:8080/"
        },
        "id": "8joBBEtAJf5Z",
        "outputId": "66363e13-7149-4d51-9257-0c91c8011b96"
      },
      "execution_count": null,
      "outputs": [
        {
          "output_type": "execute_result",
          "data": {
            "text/plain": [
              "array([ 1.8163699 , -0.48507012, -1.69622406])"
            ]
          },
          "metadata": {},
          "execution_count": 88
        }
      ]
    },
    {
      "cell_type": "code",
      "source": [
        "# 전체 성분의 평균\n",
        "np.mean(arr1)"
      ],
      "metadata": {
        "colab": {
          "base_uri": "https://localhost:8080/"
        },
        "id": "knuu4xZhKCU7",
        "outputId": "749eda59-f82a-4359-b639-fbb4315e78c6"
      },
      "execution_count": null,
      "outputs": [
        {
          "output_type": "execute_result",
          "data": {
            "text/plain": [
              "-0.024328285628621882"
            ]
          },
          "metadata": {},
          "execution_count": 91
        }
      ]
    },
    {
      "cell_type": "code",
      "source": [
        "# 행 간의 평균\n",
        "np.mean(arr1, axis = 0)"
      ],
      "metadata": {
        "colab": {
          "base_uri": "https://localhost:8080/"
        },
        "id": "5fYA1K72J8fP",
        "outputId": "d1832239-62d1-4828-e5fd-addf2fa3c240"
      },
      "execution_count": null,
      "outputs": [
        {
          "output_type": "execute_result",
          "data": {
            "text/plain": [
              "array([ 0.36327398, -0.09701402, -0.33924481])"
            ]
          },
          "metadata": {},
          "execution_count": 89
        }
      ]
    },
    {
      "cell_type": "code",
      "source": [
        "# 전체 성분의 표준편차, 분산, 최소값, 최대값 계산(std, var, min, max)\n",
        "np.std(arr1)"
      ],
      "metadata": {
        "colab": {
          "base_uri": "https://localhost:8080/"
        },
        "id": "lWK0npYkKGll",
        "outputId": "73b762b2-2a39-4add-8375-7d6086da5834"
      },
      "execution_count": null,
      "outputs": [
        {
          "output_type": "execute_result",
          "data": {
            "text/plain": [
              "0.8698862253084896"
            ]
          },
          "metadata": {},
          "execution_count": 92
        }
      ]
    },
    {
      "cell_type": "code",
      "source": [
        "np.min(arr1, axis = 1)"
      ],
      "metadata": {
        "colab": {
          "base_uri": "https://localhost:8080/"
        },
        "id": "yYf0EpFgKa2G",
        "outputId": "34a2353b-f8ab-4612-ca56-2a477546ae83"
      },
      "execution_count": null,
      "outputs": [
        {
          "output_type": "execute_result",
          "data": {
            "text/plain": [
              "array([-0.82966441, -0.04458924, -1.85317637, -0.42208377, -0.9425513 ])"
            ]
          },
          "metadata": {},
          "execution_count": 93
        }
      ]
    },
    {
      "cell_type": "code",
      "source": [
        "# 전체 성분의 최소값, 최대값이 위치한 인덱스를 반환(argmin, argmax)\n",
        "np.argmin(arr1)    # 모든 원소를 1차원 array에 편 상태를 가정하고, argmax를 적용한 결과를 반환"
      ],
      "metadata": {
        "colab": {
          "base_uri": "https://localhost:8080/"
        },
        "id": "zKR46RTUKexA",
        "outputId": "61317166-15bb-445a-b8f5-ede926ac8e6d"
      },
      "execution_count": null,
      "outputs": [
        {
          "output_type": "execute_result",
          "data": {
            "text/plain": [
              "7"
            ]
          },
          "metadata": {},
          "execution_count": 94
        }
      ]
    },
    {
      "cell_type": "code",
      "source": [
        "np.argmax(arr1, axis = 1)    # 가로 축 원소들끼리 비교하여 각 가로축 내부에서 argmax를 각각 적용"
      ],
      "metadata": {
        "id": "lAqC43OWMU8R"
      },
      "execution_count": null,
      "outputs": []
    },
    {
      "cell_type": "code",
      "source": [
        "np.argmax(arr1, axis = 0)    # 세로 축 원소들끼리 비교하여 각 세로축 내부에서 argmax를 각각 적용"
      ],
      "metadata": {
        "colab": {
          "base_uri": "https://localhost:8080/"
        },
        "id": "2qQN8YuYLBcx",
        "outputId": "02bf16ff-ab41-45f4-d715-ebcd552a4fc3"
      },
      "execution_count": null,
      "outputs": [
        {
          "output_type": "execute_result",
          "data": {
            "text/plain": [
              "array([4, 4, 1])"
            ]
          },
          "metadata": {},
          "execution_count": 95
        }
      ]
    },
    {
      "cell_type": "code",
      "source": [
        "# 맨 처음 성분부터 각 성분까지의 누적합 또는 누적곱 (cumsum, cumprod)\n",
        "np.cumsum(arr1)"
      ],
      "metadata": {
        "colab": {
          "base_uri": "https://localhost:8080/"
        },
        "id": "3bP5blDpLIEn",
        "outputId": "192dc13a-40af-43e2-9352-fc864622b72c"
      },
      "execution_count": null,
      "outputs": [
        {
          "output_type": "execute_result",
          "data": {
            "text/plain": [
              "array([-0.64342817,  0.04849217, -0.78117225, -0.82576149, -0.7994501 ,\n",
              "        0.15064111,  0.87290155, -0.98027482, -1.90768816, -1.37050127,\n",
              "       -1.79258504, -1.73927127, -0.49433128,  0.57762701, -0.36492428])"
            ]
          },
          "metadata": {},
          "execution_count": 96
        }
      ]
    },
    {
      "cell_type": "code",
      "source": [
        "np.cumsum(arr1, axis = 1)"
      ],
      "metadata": {
        "colab": {
          "base_uri": "https://localhost:8080/"
        },
        "id": "5wRzrSLIMn39",
        "outputId": "e0f6b1e5-a12b-4374-ad6a-edd8f7c59dfb"
      },
      "execution_count": null,
      "outputs": [
        {
          "output_type": "execute_result",
          "data": {
            "text/plain": [
              "array([[-0.64342817,  0.04849217, -0.78117225],\n",
              "       [-0.04458924, -0.01827786,  0.93181336],\n",
              "       [ 0.72226044, -1.13091594, -2.05832928],\n",
              "       [ 0.53718689,  0.11510312,  0.16841689],\n",
              "       [ 1.24493999,  2.31689829,  1.37434699]])"
            ]
          },
          "metadata": {},
          "execution_count": 97
        }
      ]
    },
    {
      "cell_type": "code",
      "source": [
        "np.cumprod(arr1)"
      ],
      "metadata": {
        "colab": {
          "base_uri": "https://localhost:8080/"
        },
        "id": "oLQoeTu4NaUy",
        "outputId": "88d278f8-7fda-4a7f-bb89-040d26d40673"
      },
      "execution_count": null,
      "outputs": [
        {
          "output_type": "execute_result",
          "data": {
            "text/plain": [
              "array([-6.43428167e-01, -4.45201031e-01,  3.69367452e-01, -1.64698158e-02,\n",
              "       -4.33343714e-04, -4.11716057e-04, -2.97366219e-04,  5.51072051e-04,\n",
              "       -5.11071571e-04, -2.74540947e-04,  1.15879278e-04,  6.17796122e-06,\n",
              "        7.69119098e-06,  8.24463599e-06, -7.77099236e-06])"
            ]
          },
          "metadata": {},
          "execution_count": 98
        }
      ]
    },
    {
      "cell_type": "markdown",
      "source": [
        "## 6-4. 기타 함수"
      ],
      "metadata": {
        "id": "cfWI09NDN9bO"
      }
    },
    {
      "cell_type": "code",
      "source": [
        "arr1"
      ],
      "metadata": {
        "colab": {
          "base_uri": "https://localhost:8080/"
        },
        "id": "4DyOGJGJN79o",
        "outputId": "e5e58443-fb76-42b9-8abb-e3f72bfd5ec0"
      },
      "execution_count": null,
      "outputs": [
        {
          "output_type": "execute_result",
          "data": {
            "text/plain": [
              "array([[-0.64342817,  0.69192033, -0.82966441],\n",
              "       [-0.04458924,  0.02631139,  0.95009122],\n",
              "       [ 0.72226044, -1.85317637, -0.92741334],\n",
              "       [ 0.53718689, -0.42208377,  0.05331377],\n",
              "       [ 1.24493999,  1.0719583 , -0.9425513 ]])"
            ]
          },
          "metadata": {},
          "execution_count": 99
        }
      ]
    },
    {
      "cell_type": "code",
      "source": [
        "# 전체 성분 오름차순 정렬\n",
        "np.sort(arr1)"
      ],
      "metadata": {
        "colab": {
          "base_uri": "https://localhost:8080/"
        },
        "id": "8A4LylYrOACM",
        "outputId": "24f2d45b-0b41-459c-ffc8-b37c386cdae3"
      },
      "execution_count": null,
      "outputs": [
        {
          "output_type": "execute_result",
          "data": {
            "text/plain": [
              "array([[-0.82966441, -0.64342817,  0.69192033],\n",
              "       [-0.04458924,  0.02631139,  0.95009122],\n",
              "       [-1.85317637, -0.92741334,  0.72226044],\n",
              "       [-0.42208377,  0.05331377,  0.53718689],\n",
              "       [-0.9425513 ,  1.0719583 ,  1.24493999]])"
            ]
          },
          "metadata": {},
          "execution_count": 100
        }
      ]
    },
    {
      "cell_type": "code",
      "source": [
        "# 전체 성분 내림차순 정렬\n",
        "np.sort(arr1)[::-1]"
      ],
      "metadata": {
        "colab": {
          "base_uri": "https://localhost:8080/"
        },
        "id": "9LK1IEZ0OGGH",
        "outputId": "17138059-dc30-45e4-be5c-7279437ac4d3"
      },
      "execution_count": null,
      "outputs": [
        {
          "output_type": "execute_result",
          "data": {
            "text/plain": [
              "array([[-0.9425513 ,  1.0719583 ,  1.24493999],\n",
              "       [-0.42208377,  0.05331377,  0.53718689],\n",
              "       [-1.85317637, -0.92741334,  0.72226044],\n",
              "       [-0.04458924,  0.02631139,  0.95009122],\n",
              "       [-0.82966441, -0.64342817,  0.69192033]])"
            ]
          },
          "metadata": {},
          "execution_count": 101
        }
      ]
    },
    {
      "cell_type": "code",
      "source": [
        "# 행 방향으로 오름차순 정렬\n",
        "np.sort(arr1, axis = 0)"
      ],
      "metadata": {
        "colab": {
          "base_uri": "https://localhost:8080/"
        },
        "id": "JS1Z6ftZOOuL",
        "outputId": "a5107874-24a5-4962-f193-8f66e9a48e63"
      },
      "execution_count": null,
      "outputs": [
        {
          "output_type": "execute_result",
          "data": {
            "text/plain": [
              "array([[-0.64342817, -1.85317637, -0.9425513 ],\n",
              "       [-0.04458924, -0.42208377, -0.92741334],\n",
              "       [ 0.53718689,  0.02631139, -0.82966441],\n",
              "       [ 0.72226044,  0.69192033,  0.05331377],\n",
              "       [ 1.24493999,  1.0719583 ,  0.95009122]])"
            ]
          },
          "metadata": {},
          "execution_count": 102
        }
      ]
    },
    {
      "cell_type": "code",
      "source": [],
      "metadata": {
        "id": "Xum9yQ4uOfL2"
      },
      "execution_count": null,
      "outputs": []
    }
  ]
}